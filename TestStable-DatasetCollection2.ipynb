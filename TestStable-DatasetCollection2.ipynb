{
 "cells": [
  {
   "cell_type": "markdown",
   "id": "3741939a-aa84-4f72-927e-ee70e428d824",
   "metadata": {},
   "source": [
    "## IMPORT LIBRARIES"
   ]
  },
  {
   "cell_type": "code",
   "execution_count": 1,
   "id": "adf20c92-1740-41ff-9e55-5f398d4b953d",
   "metadata": {},
   "outputs": [],
   "source": [
    "import numpy as np\n",
    "import pandas as pd\n",
    "import matplotlib.pyplot as plt\n",
    "import seaborn as sns\n",
    "import nltk\n",
    "import re\n",
    "from wordcloud import WordCloud\n",
    "import preprocess_kgptalkie as ps\n",
    "import gensim"
   ]
  },
  {
   "cell_type": "code",
   "execution_count": 2,
   "id": "98d84075-01ae-40f8-abe9-356e4121e5c0",
   "metadata": {},
   "outputs": [],
   "source": [
    "from tensorflow.keras.preprocessing.text import Tokenizer\n",
    "from tensorflow.keras.preprocessing.sequence import pad_sequences\n",
    "from tensorflow.keras.models import Sequential\n",
    "from tensorflow.keras.layers import Dense, Embedding, LSTM, Conv1D, MaxPool1D\n",
    "from sklearn.model_selection import train_test_split\n",
    "from sklearn.metrics import classification_report, accuracy_score"
   ]
  },
  {
   "cell_type": "markdown",
   "id": "20043dd5-93aa-4967-8d9c-bea0f2141943",
   "metadata": {},
   "source": [
    "## READ DATASETS"
   ]
  },
  {
   "cell_type": "code",
   "execution_count": 3,
   "id": "e7c3dd6b-ec8c-487f-94e6-bacb95daa08b",
   "metadata": {},
   "outputs": [],
   "source": [
    "fake = pd.read_csv('Fake (Dataset Collection 2).csv')"
   ]
  },
  {
   "cell_type": "code",
   "execution_count": 4,
   "id": "72a588e7-05e9-4dec-8fea-19bc5cb0fbe4",
   "metadata": {},
   "outputs": [],
   "source": [
    "true = pd.read_csv('True (Dataset Collection 2).csv')"
   ]
  },
  {
   "cell_type": "code",
   "execution_count": 5,
   "id": "eaa6fca4-1e7b-4c1f-a157-e5d7ffd4546d",
   "metadata": {},
   "outputs": [
    {
     "data": {
      "text/html": [
       "<div>\n",
       "<style scoped>\n",
       "    .dataframe tbody tr th:only-of-type {\n",
       "        vertical-align: middle;\n",
       "    }\n",
       "\n",
       "    .dataframe tbody tr th {\n",
       "        vertical-align: top;\n",
       "    }\n",
       "\n",
       "    .dataframe thead th {\n",
       "        text-align: right;\n",
       "    }\n",
       "</style>\n",
       "<table border=\"1\" class=\"dataframe\">\n",
       "  <thead>\n",
       "    <tr style=\"text-align: right;\">\n",
       "      <th></th>\n",
       "      <th>Title</th>\n",
       "      <th>Author</th>\n",
       "      <th>Text</th>\n",
       "    </tr>\n",
       "  </thead>\n",
       "  <tbody>\n",
       "    <tr>\n",
       "      <th>0</th>\n",
       "      <td>House Dem Aide: We Didn’t Even See Comey’s Let...</td>\n",
       "      <td>Darrell Lucus</td>\n",
       "      <td>House Dem Aide: We Didn’t Even See Comey’s Let...</td>\n",
       "    </tr>\n",
       "    <tr>\n",
       "      <th>1</th>\n",
       "      <td>Why the Truth Might Get You Fired</td>\n",
       "      <td>Consortiumnews.com</td>\n",
       "      <td>Why the Truth Might Get You Fired October 29, ...</td>\n",
       "    </tr>\n",
       "    <tr>\n",
       "      <th>2</th>\n",
       "      <td>15 Civilians Killed In Single US Airstrike Hav...</td>\n",
       "      <td>Jessica Purkiss</td>\n",
       "      <td>Videos 15 Civilians Killed In Single US Airstr...</td>\n",
       "    </tr>\n",
       "    <tr>\n",
       "      <th>3</th>\n",
       "      <td>Iranian woman jailed for fictional unpublished...</td>\n",
       "      <td>Howard Portnoy</td>\n",
       "      <td>Print \\nAn Iranian woman has been sentenced to...</td>\n",
       "    </tr>\n",
       "    <tr>\n",
       "      <th>4</th>\n",
       "      <td>Life: Life Of Luxury: Elton John’s 6 Favorite ...</td>\n",
       "      <td>NaN</td>\n",
       "      <td>Ever wonder how Britain’s most iconic pop pian...</td>\n",
       "    </tr>\n",
       "  </tbody>\n",
       "</table>\n",
       "</div>"
      ],
      "text/plain": [
       "                                               Title              Author  \\\n",
       "0  House Dem Aide: We Didn’t Even See Comey’s Let...       Darrell Lucus   \n",
       "1                  Why the Truth Might Get You Fired  Consortiumnews.com   \n",
       "2  15 Civilians Killed In Single US Airstrike Hav...     Jessica Purkiss   \n",
       "3  Iranian woman jailed for fictional unpublished...      Howard Portnoy   \n",
       "4  Life: Life Of Luxury: Elton John’s 6 Favorite ...                 NaN   \n",
       "\n",
       "                                                Text  \n",
       "0  House Dem Aide: We Didn’t Even See Comey’s Let...  \n",
       "1  Why the Truth Might Get You Fired October 29, ...  \n",
       "2  Videos 15 Civilians Killed In Single US Airstr...  \n",
       "3  Print \\nAn Iranian woman has been sentenced to...  \n",
       "4  Ever wonder how Britain’s most iconic pop pian...  "
      ]
     },
     "execution_count": 5,
     "metadata": {},
     "output_type": "execute_result"
    }
   ],
   "source": [
    "fake.head()"
   ]
  },
  {
   "cell_type": "code",
   "execution_count": 6,
   "id": "de4add15-33dc-4fa7-8979-e58c42f6bfc3",
   "metadata": {},
   "outputs": [
    {
     "data": {
      "text/plain": [
       "Index(['Title', 'Author', 'Text'], dtype='object')"
      ]
     },
     "execution_count": 6,
     "metadata": {},
     "output_type": "execute_result"
    }
   ],
   "source": [
    "fake.columns"
   ]
  },
  {
   "cell_type": "code",
   "execution_count": 7,
   "id": "0b3e3376-b168-45fa-886a-24db4cce9d9e",
   "metadata": {},
   "outputs": [
    {
     "data": {
      "text/plain": [
       "(10369, 3)"
      ]
     },
     "execution_count": 7,
     "metadata": {},
     "output_type": "execute_result"
    }
   ],
   "source": [
    "fake.shape"
   ]
  },
  {
   "cell_type": "code",
   "execution_count": 8,
   "id": "bb922406-c60d-40e3-829e-71d1d62ae3b7",
   "metadata": {},
   "outputs": [
    {
     "data": {
      "text/html": [
       "<div>\n",
       "<style scoped>\n",
       "    .dataframe tbody tr th:only-of-type {\n",
       "        vertical-align: middle;\n",
       "    }\n",
       "\n",
       "    .dataframe tbody tr th {\n",
       "        vertical-align: top;\n",
       "    }\n",
       "\n",
       "    .dataframe thead th {\n",
       "        text-align: right;\n",
       "    }\n",
       "</style>\n",
       "<table border=\"1\" class=\"dataframe\">\n",
       "  <thead>\n",
       "    <tr style=\"text-align: right;\">\n",
       "      <th></th>\n",
       "      <th>Title</th>\n",
       "      <th>Author</th>\n",
       "      <th>Text</th>\n",
       "    </tr>\n",
       "  </thead>\n",
       "  <tbody>\n",
       "    <tr>\n",
       "      <th>8492</th>\n",
       "      <td>86,000 People Kinda Used To Boiling Water At T...</td>\n",
       "      <td>Gerry McBride</td>\n",
       "      <td>0 Add Comment \\n“IT’S just part of the day,” c...</td>\n",
       "    </tr>\n",
       "    <tr>\n",
       "      <th>75</th>\n",
       "      <td>James Mattis Is a Secretary of Offense</td>\n",
       "      <td>David Swanson</td>\n",
       "      <td>Lt. Gen. James Mattis, the commander of U.S. M...</td>\n",
       "    </tr>\n",
       "    <tr>\n",
       "      <th>2249</th>\n",
       "      <td>NaN</td>\n",
       "      <td>Rhonda Gilmore</td>\n",
       "      <td>I love it when libtards get their a** handed t...</td>\n",
       "    </tr>\n",
       "    <tr>\n",
       "      <th>6503</th>\n",
       "      <td>Bill Weld is Hillary Clinton’s Libertarian Par...</td>\n",
       "      <td>Adam Dick</td>\n",
       "      <td>Written by Adam Dick   It is common in preside...</td>\n",
       "    </tr>\n",
       "    <tr>\n",
       "      <th>9258</th>\n",
       "      <td>Young Turks Finds Out Why Trump Is About To Lo...</td>\n",
       "      <td>Wes Williams</td>\n",
       "      <td>By Wes Williams Election 2016 , Politics , Vid...</td>\n",
       "    </tr>\n",
       "    <tr>\n",
       "      <th>10192</th>\n",
       "      <td>NaN</td>\n",
       "      <td>ctwatcher✓ᵛᵉʳᶦᶠᶦᵉᵈ</td>\n",
       "      <td>While in the NV dessert 2 fake nuclear bombs w...</td>\n",
       "    </tr>\n",
       "    <tr>\n",
       "      <th>8583</th>\n",
       "      <td>Busted! Wikileaks Proves Obama Lied about when...</td>\n",
       "      <td>Tim Brown</td>\n",
       "      <td>Well, in a long list of documented lies, cover...</td>\n",
       "    </tr>\n",
       "    <tr>\n",
       "      <th>9920</th>\n",
       "      <td>The De Facto US/Al Qaeda Alliance</td>\n",
       "      <td>NaN</td>\n",
       "      <td>License DMCA \\nA curious aspect of the Syrian ...</td>\n",
       "    </tr>\n",
       "    <tr>\n",
       "      <th>6595</th>\n",
       "      <td>Paul Craig Roberts: “We All Might Be Dead Soon…”</td>\n",
       "      <td>Starkman</td>\n",
       "      <td>Economist and American civil servant Dr. Paul ...</td>\n",
       "    </tr>\n",
       "    <tr>\n",
       "      <th>5780</th>\n",
       "      <td>PETITION TO STOP GEORGE SOROS VOTING MACHINES ...</td>\n",
       "      <td>Eddy Lavine</td>\n",
       "      <td>posted by Eddie \\nA White House petition to re...</td>\n",
       "    </tr>\n",
       "  </tbody>\n",
       "</table>\n",
       "</div>"
      ],
      "text/plain": [
       "                                                   Title              Author  \\\n",
       "8492   86,000 People Kinda Used To Boiling Water At T...       Gerry McBride   \n",
       "75                James Mattis Is a Secretary of Offense       David Swanson   \n",
       "2249                                                 NaN      Rhonda Gilmore   \n",
       "6503   Bill Weld is Hillary Clinton’s Libertarian Par...           Adam Dick   \n",
       "9258   Young Turks Finds Out Why Trump Is About To Lo...        Wes Williams   \n",
       "10192                                                NaN  ctwatcher✓ᵛᵉʳᶦᶠᶦᵉᵈ   \n",
       "8583   Busted! Wikileaks Proves Obama Lied about when...           Tim Brown   \n",
       "9920                   The De Facto US/Al Qaeda Alliance                 NaN   \n",
       "6595    Paul Craig Roberts: “We All Might Be Dead Soon…”            Starkman   \n",
       "5780   PETITION TO STOP GEORGE SOROS VOTING MACHINES ...         Eddy Lavine   \n",
       "\n",
       "                                                    Text  \n",
       "8492   0 Add Comment \\n“IT’S just part of the day,” c...  \n",
       "75     Lt. Gen. James Mattis, the commander of U.S. M...  \n",
       "2249   I love it when libtards get their a** handed t...  \n",
       "6503   Written by Adam Dick   It is common in preside...  \n",
       "9258   By Wes Williams Election 2016 , Politics , Vid...  \n",
       "10192  While in the NV dessert 2 fake nuclear bombs w...  \n",
       "8583   Well, in a long list of documented lies, cover...  \n",
       "9920   License DMCA \\nA curious aspect of the Syrian ...  \n",
       "6595   Economist and American civil servant Dr. Paul ...  \n",
       "5780   posted by Eddie \\nA White House petition to re...  "
      ]
     },
     "execution_count": 8,
     "metadata": {},
     "output_type": "execute_result"
    }
   ],
   "source": [
    "fake.sample(10)"
   ]
  },
  {
   "cell_type": "code",
   "execution_count": 9,
   "id": "a27bc3a8-800f-4bda-be07-cd294b491a80",
   "metadata": {},
   "outputs": [
    {
     "data": {
      "text/html": [
       "<div>\n",
       "<style scoped>\n",
       "    .dataframe tbody tr th:only-of-type {\n",
       "        vertical-align: middle;\n",
       "    }\n",
       "\n",
       "    .dataframe tbody tr th {\n",
       "        vertical-align: top;\n",
       "    }\n",
       "\n",
       "    .dataframe thead th {\n",
       "        text-align: right;\n",
       "    }\n",
       "</style>\n",
       "<table border=\"1\" class=\"dataframe\">\n",
       "  <thead>\n",
       "    <tr style=\"text-align: right;\">\n",
       "      <th></th>\n",
       "      <th>Title</th>\n",
       "      <th>Author</th>\n",
       "      <th>Text</th>\n",
       "    </tr>\n",
       "  </thead>\n",
       "  <tbody>\n",
       "    <tr>\n",
       "      <th>0</th>\n",
       "      <td>FLYNN: Hillary Clinton, Big Woman on Campus - ...</td>\n",
       "      <td>Daniel J. Flynn</td>\n",
       "      <td>Ever get the feeling your life circles the rou...</td>\n",
       "    </tr>\n",
       "    <tr>\n",
       "      <th>1</th>\n",
       "      <td>Jackie Mason: Hollywood Would Love Trump if He...</td>\n",
       "      <td>Daniel Nussbaum</td>\n",
       "      <td>In these trying times, Jackie Mason is the Voi...</td>\n",
       "    </tr>\n",
       "    <tr>\n",
       "      <th>2</th>\n",
       "      <td>Benoît Hamon Wins French Socialist Party’s Pre...</td>\n",
       "      <td>Alissa J. Rubin</td>\n",
       "      <td>PARIS  —   France chose an idealistic, traditi...</td>\n",
       "    </tr>\n",
       "    <tr>\n",
       "      <th>3</th>\n",
       "      <td>Excerpts From a Draft Script for Donald Trump’...</td>\n",
       "      <td>NaN</td>\n",
       "      <td>Donald J. Trump is scheduled to make a highly ...</td>\n",
       "    </tr>\n",
       "    <tr>\n",
       "      <th>4</th>\n",
       "      <td>A Back-Channel Plan for Ukraine and Russia, Co...</td>\n",
       "      <td>Megan Twohey and Scott Shane</td>\n",
       "      <td>A week before Michael T. Flynn resigned as nat...</td>\n",
       "    </tr>\n",
       "  </tbody>\n",
       "</table>\n",
       "</div>"
      ],
      "text/plain": [
       "                                               Title  \\\n",
       "0  FLYNN: Hillary Clinton, Big Woman on Campus - ...   \n",
       "1  Jackie Mason: Hollywood Would Love Trump if He...   \n",
       "2  Benoît Hamon Wins French Socialist Party’s Pre...   \n",
       "3  Excerpts From a Draft Script for Donald Trump’...   \n",
       "4  A Back-Channel Plan for Ukraine and Russia, Co...   \n",
       "\n",
       "                         Author  \\\n",
       "0               Daniel J. Flynn   \n",
       "1               Daniel Nussbaum   \n",
       "2               Alissa J. Rubin   \n",
       "3                           NaN   \n",
       "4  Megan Twohey and Scott Shane   \n",
       "\n",
       "                                                Text  \n",
       "0  Ever get the feeling your life circles the rou...  \n",
       "1  In these trying times, Jackie Mason is the Voi...  \n",
       "2  PARIS  —   France chose an idealistic, traditi...  \n",
       "3  Donald J. Trump is scheduled to make a highly ...  \n",
       "4  A week before Michael T. Flynn resigned as nat...  "
      ]
     },
     "execution_count": 9,
     "metadata": {},
     "output_type": "execute_result"
    }
   ],
   "source": [
    "true.head()"
   ]
  },
  {
   "cell_type": "code",
   "execution_count": 10,
   "id": "f9264ce2-3cf7-4bcb-9ba0-33c86513db98",
   "metadata": {},
   "outputs": [
    {
     "data": {
      "text/plain": [
       "Index(['Title', 'Author', 'Text'], dtype='object')"
      ]
     },
     "execution_count": 10,
     "metadata": {},
     "output_type": "execute_result"
    }
   ],
   "source": [
    "true.columns"
   ]
  },
  {
   "cell_type": "code",
   "execution_count": 11,
   "id": "a3eb8090-a31a-43fd-802f-1e7dd994907e",
   "metadata": {},
   "outputs": [
    {
     "data": {
      "text/plain": [
       "(10349, 3)"
      ]
     },
     "execution_count": 11,
     "metadata": {},
     "output_type": "execute_result"
    }
   ],
   "source": [
    "true.shape"
   ]
  },
  {
   "cell_type": "code",
   "execution_count": 12,
   "id": "23ed4506-244b-4791-b1fe-83cbc70b807e",
   "metadata": {},
   "outputs": [
    {
     "data": {
      "text/html": [
       "<div>\n",
       "<style scoped>\n",
       "    .dataframe tbody tr th:only-of-type {\n",
       "        vertical-align: middle;\n",
       "    }\n",
       "\n",
       "    .dataframe tbody tr th {\n",
       "        vertical-align: top;\n",
       "    }\n",
       "\n",
       "    .dataframe thead th {\n",
       "        text-align: right;\n",
       "    }\n",
       "</style>\n",
       "<table border=\"1\" class=\"dataframe\">\n",
       "  <thead>\n",
       "    <tr style=\"text-align: right;\">\n",
       "      <th></th>\n",
       "      <th>Title</th>\n",
       "      <th>Author</th>\n",
       "      <th>Text</th>\n",
       "    </tr>\n",
       "  </thead>\n",
       "  <tbody>\n",
       "    <tr>\n",
       "      <th>8061</th>\n",
       "      <td>Border Patrol Agents Arrest Smuggler After Rol...</td>\n",
       "      <td>Bob Price</td>\n",
       "      <td>Border Patrol agents from the Yuma and El Cent...</td>\n",
       "    </tr>\n",
       "    <tr>\n",
       "      <th>9939</th>\n",
       "      <td>Trump, Tillerson, Venezuela: Your Thursday Eve...</td>\n",
       "      <td>Karen Zraick and Sandra Stevenson</td>\n",
       "      <td>(Want to get this briefing by email? Here’s th...</td>\n",
       "    </tr>\n",
       "    <tr>\n",
       "      <th>3254</th>\n",
       "      <td>Global Warming Alters Arctic Food Chain, Scien...</td>\n",
       "      <td>Carl Zimmer</td>\n",
       "      <td>The Arctic Ocean may seem remote and forbiddin...</td>\n",
       "    </tr>\n",
       "    <tr>\n",
       "      <th>5168</th>\n",
       "      <td>Surprise! Insurance Paid the E.R. but Not the ...</td>\n",
       "      <td>Margot Sanger-Katz and Reed Abelson</td>\n",
       "      <td>Doug Moore was out of town at a Florida confer...</td>\n",
       "    </tr>\n",
       "    <tr>\n",
       "      <th>3957</th>\n",
       "      <td>Pence: World Will Know America Stands with Israel</td>\n",
       "      <td>Breitbart Jerusalem</td>\n",
       "      <td>CBS News reports: LAS VEGAS  —   Vice Presiden...</td>\n",
       "    </tr>\n",
       "    <tr>\n",
       "      <th>7728</th>\n",
       "      <td>Begging on Liberia’s Streets by Day, Heating U...</td>\n",
       "      <td>Clair MacDougall</td>\n",
       "      <td>MONROVIA, Liberia  —   Emmanuel Dongo, who spe...</td>\n",
       "    </tr>\n",
       "    <tr>\n",
       "      <th>9066</th>\n",
       "      <td>Where Did the Government Jobs Go? - The New Yo...</td>\n",
       "      <td>Annie Lowrey</td>\n",
       "      <td>On a muggy afternoon in April, Angelina Iles, ...</td>\n",
       "    </tr>\n",
       "    <tr>\n",
       "      <th>1467</th>\n",
       "      <td>Kellogg’s Brand Falls from 60 to 84th Place wi...</td>\n",
       "      <td>Warner Todd Huston</td>\n",
       "      <td>Continuing its business slump, a new review of...</td>\n",
       "    </tr>\n",
       "    <tr>\n",
       "      <th>10140</th>\n",
       "      <td>ESPN’s Historic Setback: Celebrate It, but Not...</td>\n",
       "      <td>Dylan Gwinn</td>\n",
       "      <td>The era of big cable sports is over. [It ended...</td>\n",
       "    </tr>\n",
       "    <tr>\n",
       "      <th>4147</th>\n",
       "      <td>Theresa May, Donald Trump, Hillary Clinton: Yo...</td>\n",
       "      <td>Andrea Kannapell and Sandra Stevenson</td>\n",
       "      <td>(Want to get this briefing by email? Here’s th...</td>\n",
       "    </tr>\n",
       "  </tbody>\n",
       "</table>\n",
       "</div>"
      ],
      "text/plain": [
       "                                                   Title  \\\n",
       "8061   Border Patrol Agents Arrest Smuggler After Rol...   \n",
       "9939   Trump, Tillerson, Venezuela: Your Thursday Eve...   \n",
       "3254   Global Warming Alters Arctic Food Chain, Scien...   \n",
       "5168   Surprise! Insurance Paid the E.R. but Not the ...   \n",
       "3957   Pence: World Will Know America Stands with Israel   \n",
       "7728   Begging on Liberia’s Streets by Day, Heating U...   \n",
       "9066   Where Did the Government Jobs Go? - The New Yo...   \n",
       "1467   Kellogg’s Brand Falls from 60 to 84th Place wi...   \n",
       "10140  ESPN’s Historic Setback: Celebrate It, but Not...   \n",
       "4147   Theresa May, Donald Trump, Hillary Clinton: Yo...   \n",
       "\n",
       "                                      Author  \\\n",
       "8061                               Bob Price   \n",
       "9939       Karen Zraick and Sandra Stevenson   \n",
       "3254                             Carl Zimmer   \n",
       "5168     Margot Sanger-Katz and Reed Abelson   \n",
       "3957                     Breitbart Jerusalem   \n",
       "7728                        Clair MacDougall   \n",
       "9066                            Annie Lowrey   \n",
       "1467                      Warner Todd Huston   \n",
       "10140                            Dylan Gwinn   \n",
       "4147   Andrea Kannapell and Sandra Stevenson   \n",
       "\n",
       "                                                    Text  \n",
       "8061   Border Patrol agents from the Yuma and El Cent...  \n",
       "9939   (Want to get this briefing by email? Here’s th...  \n",
       "3254   The Arctic Ocean may seem remote and forbiddin...  \n",
       "5168   Doug Moore was out of town at a Florida confer...  \n",
       "3957   CBS News reports: LAS VEGAS  —   Vice Presiden...  \n",
       "7728   MONROVIA, Liberia  —   Emmanuel Dongo, who spe...  \n",
       "9066   On a muggy afternoon in April, Angelina Iles, ...  \n",
       "1467   Continuing its business slump, a new review of...  \n",
       "10140  The era of big cable sports is over. [It ended...  \n",
       "4147   (Want to get this briefing by email? Here’s th...  "
      ]
     },
     "execution_count": 12,
     "metadata": {},
     "output_type": "execute_result"
    }
   ],
   "source": [
    "true.sample(10)"
   ]
  },
  {
   "cell_type": "markdown",
   "id": "0a59e6cd-0fc3-4e4c-8860-876db3ff567d",
   "metadata": {},
   "source": [
    "## Data Preprocessing"
   ]
  },
  {
   "cell_type": "markdown",
   "id": "7d361c15-597a-499d-a0b5-00d946485d8a",
   "metadata": {},
   "source": [
    "Drop news stories that have 'NaN' values"
   ]
  },
  {
   "cell_type": "code",
   "execution_count": 13,
   "id": "494ef40d-48f5-40a0-b817-09e507105ff0",
   "metadata": {},
   "outputs": [],
   "source": [
    "fake = fake.drop(63, axis = 0)\n",
    "fake = fake.drop(278, axis = 0)\n",
    "fake = fake.drop(598, axis = 0)\n",
    "fake = fake.drop(967, axis = 0)\n",
    "fake = fake.drop(1085, axis = 0)\n",
    "fake = fake.drop(1097, axis = 0)\n",
    "fake = fake.drop(1412, axis = 0)\n",
    "fake = fake.drop(1676, axis = 0)\n",
    "fake = fake.drop(1882, axis = 0)\n",
    "fake = fake.drop(2172, axis = 0)\n",
    "fake = fake.drop(2212, axis = 0)\n",
    "fake = fake.drop(2857, axis = 0)\n",
    "fake = fake.drop(3087, axis = 0)\n",
    "fake = fake.drop(3340, axis = 0)\n",
    "fake = fake.drop(4286, axis = 0)\n",
    "fake = fake.drop(4422, axis = 0)\n",
    "fake = fake.drop(4431, axis = 0)\n",
    "fake = fake.drop(4642, axis = 0)\n",
    "fake = fake.drop(4690, axis = 0)\n",
    "fake = fake.drop(4694, axis = 0)\n",
    "fake = fake.drop(4731, axis = 0)\n",
    "fake = fake.drop(5215, axis = 0)\n",
    "fake = fake.drop(5424, axis = 0)\n",
    "fake = fake.drop(5716, axis = 0)\n",
    "fake = fake.drop(5734, axis = 0)\n",
    "fake = fake.drop(6014, axis = 0)\n",
    "fake = fake.drop(6211, axis = 0)\n",
    "fake = fake.drop(6391, axis = 0)\n",
    "fake = fake.drop(6481, axis = 0)\n",
    "fake = fake.drop(6522, axis = 0)\n",
    "fake = fake.drop(6930, axis = 0)\n",
    "fake = fake.drop(7219, axis = 0)\n",
    "fake = fake.drop(7429, axis = 0)\n",
    "fake = fake.drop(8028, axis = 0)\n",
    "fake = fake.drop(9183, axis = 0)\n",
    "fake = fake.drop(9316, axis = 0)\n",
    "fake = fake.drop(9514, axis = 0)\n",
    "fake = fake.drop(9549, axis = 0)\n",
    "fake = fake.drop(9645, axis = 0)"
   ]
  },
  {
   "cell_type": "markdown",
   "id": "98694c03-c1c1-40ce-b54f-dad782d82107",
   "metadata": {},
   "source": [
    "Find news stories with no text"
   ]
  },
  {
   "cell_type": "code",
   "execution_count": 14,
   "id": "5b86bcaa-eeab-4f10-a7f1-0abbad74c313",
   "metadata": {},
   "outputs": [],
   "source": [
    "text = ' '.join(fake['Text'].tolist())"
   ]
  },
  {
   "cell_type": "code",
   "execution_count": 15,
   "id": "c4353ce2-e32a-44fe-bab6-0aea679fd876",
   "metadata": {},
   "outputs": [],
   "source": [
    "empty_fake_index = [index for index, text in enumerate(fake.Text.tolist()) if str(text).strip()==\"\"]"
   ]
  },
  {
   "cell_type": "code",
   "execution_count": 16,
   "id": "c56aa0bd-c2af-4b39-b5b6-b00553c9691e",
   "metadata": {},
   "outputs": [
    {
     "data": {
      "text/html": [
       "<div>\n",
       "<style scoped>\n",
       "    .dataframe tbody tr th:only-of-type {\n",
       "        vertical-align: middle;\n",
       "    }\n",
       "\n",
       "    .dataframe tbody tr th {\n",
       "        vertical-align: top;\n",
       "    }\n",
       "\n",
       "    .dataframe thead th {\n",
       "        text-align: right;\n",
       "    }\n",
       "</style>\n",
       "<table border=\"1\" class=\"dataframe\">\n",
       "  <thead>\n",
       "    <tr style=\"text-align: right;\">\n",
       "      <th></th>\n",
       "      <th>Title</th>\n",
       "      <th>Author</th>\n",
       "      <th>Text</th>\n",
       "    </tr>\n",
       "  </thead>\n",
       "  <tbody>\n",
       "    <tr>\n",
       "      <th>37</th>\n",
       "      <td>Huma’s Weiner Dogs Hillary</td>\n",
       "      <td>Steve Sailer</td>\n",
       "      <td></td>\n",
       "    </tr>\n",
       "    <tr>\n",
       "      <th>77</th>\n",
       "      <td>Mohamad Khweis: Another “Virginia Man” (Palest...</td>\n",
       "      <td>James Fulford</td>\n",
       "      <td></td>\n",
       "    </tr>\n",
       "    <tr>\n",
       "      <th>140</th>\n",
       "      <td>A Connecticut Reader Reports Record Voter Regi...</td>\n",
       "      <td>VDARE.com Reader</td>\n",
       "      <td></td>\n",
       "    </tr>\n",
       "    <tr>\n",
       "      <th>217</th>\n",
       "      <td>BULLETIN: There ARE Righteous Jews For Trump!;...</td>\n",
       "      <td>admin</td>\n",
       "      <td></td>\n",
       "    </tr>\n",
       "    <tr>\n",
       "      <th>291</th>\n",
       "      <td>Is your promising internet career over now Vin...</td>\n",
       "      <td>newsbiscuit editorial team</td>\n",
       "      <td></td>\n",
       "    </tr>\n",
       "    <tr>\n",
       "      <th>...</th>\n",
       "      <td>...</td>\n",
       "      <td>...</td>\n",
       "      <td>...</td>\n",
       "    </tr>\n",
       "    <tr>\n",
       "      <th>9932</th>\n",
       "      <td>98% of public now ‘really looking forward’ to ...</td>\n",
       "      <td>NewsBiscuit</td>\n",
       "      <td></td>\n",
       "    </tr>\n",
       "    <tr>\n",
       "      <th>10038</th>\n",
       "      <td>Thomas Frank Explores Whether Hillary Clinton ...</td>\n",
       "      <td>NaN</td>\n",
       "      <td></td>\n",
       "    </tr>\n",
       "    <tr>\n",
       "      <th>10092</th>\n",
       "      <td>Radio Derb Transcript For October 21 Up: The M...</td>\n",
       "      <td>John Derbyshire</td>\n",
       "      <td></td>\n",
       "    </tr>\n",
       "    <tr>\n",
       "      <th>10102</th>\n",
       "      <td>Pro-sovereignty Legislators Demand That Admini...</td>\n",
       "      <td>Brenda Walker</td>\n",
       "      <td></td>\n",
       "    </tr>\n",
       "    <tr>\n",
       "      <th>10210</th>\n",
       "      <td>SAID IN SPANISH: A Mexican Governor Meddles In...</td>\n",
       "      <td>Allan Wall</td>\n",
       "      <td></td>\n",
       "    </tr>\n",
       "  </tbody>\n",
       "</table>\n",
       "<p>77 rows × 3 columns</p>\n",
       "</div>"
      ],
      "text/plain": [
       "                                                   Title  \\\n",
       "37                            Huma’s Weiner Dogs Hillary   \n",
       "77     Mohamad Khweis: Another “Virginia Man” (Palest...   \n",
       "140    A Connecticut Reader Reports Record Voter Regi...   \n",
       "217    BULLETIN: There ARE Righteous Jews For Trump!;...   \n",
       "291    Is your promising internet career over now Vin...   \n",
       "...                                                  ...   \n",
       "9932   98% of public now ‘really looking forward’ to ...   \n",
       "10038  Thomas Frank Explores Whether Hillary Clinton ...   \n",
       "10092  Radio Derb Transcript For October 21 Up: The M...   \n",
       "10102  Pro-sovereignty Legislators Demand That Admini...   \n",
       "10210  SAID IN SPANISH: A Mexican Governor Meddles In...   \n",
       "\n",
       "                           Author Text  \n",
       "37                   Steve Sailer       \n",
       "77                  James Fulford       \n",
       "140              VDARE.com Reader       \n",
       "217                         admin       \n",
       "291    newsbiscuit editorial team       \n",
       "...                           ...  ...  \n",
       "9932                  NewsBiscuit       \n",
       "10038                         NaN       \n",
       "10092             John Derbyshire       \n",
       "10102               Brenda Walker       \n",
       "10210                  Allan Wall       \n",
       "\n",
       "[77 rows x 3 columns]"
      ]
     },
     "execution_count": 16,
     "metadata": {},
     "output_type": "execute_result"
    }
   ],
   "source": [
    "fake.iloc[empty_fake_index]"
   ]
  },
  {
   "cell_type": "markdown",
   "id": "15051889-7f52-41d7-aa30-6d8bb7365253",
   "metadata": {},
   "source": [
    "Combine title and text into one column"
   ]
  },
  {
   "cell_type": "code",
   "execution_count": 17,
   "id": "8e9561db-22a8-4017-8bba-558149480750",
   "metadata": {},
   "outputs": [],
   "source": [
    "true['Text'] = true['Title'] + \" \" + true['Text']"
   ]
  },
  {
   "cell_type": "code",
   "execution_count": 18,
   "id": "7b93345c-4743-4e64-8bd8-cf8518a57e14",
   "metadata": {},
   "outputs": [],
   "source": [
    "fake['Text'] = fake['Title'] + \" \" + fake['Text']"
   ]
  },
  {
   "cell_type": "markdown",
   "id": "d148f966-c94a-4b7c-93bc-42943d76e74b",
   "metadata": {},
   "source": [
    "Set all text as lower case"
   ]
  },
  {
   "cell_type": "code",
   "execution_count": 19,
   "id": "defdae61-47af-4f75-8764-e528223b2f92",
   "metadata": {},
   "outputs": [],
   "source": [
    "true['Text'] = true['Text'].apply(lambda x: str(x).lower())"
   ]
  },
  {
   "cell_type": "code",
   "execution_count": 20,
   "id": "dc20e81a-d186-49c9-818d-5b0c96d4eab6",
   "metadata": {},
   "outputs": [],
   "source": [
    "fake['Text'] = fake['Text'].apply(lambda x: str(x).lower())"
   ]
  },
  {
   "cell_type": "markdown",
   "id": "6c0eaa69-e8d3-4bd7-9675-bd98b3e270e4",
   "metadata": {},
   "source": [
    "set 'True' classifier as 0 and 'Fake' classifier as 1"
   ]
  },
  {
   "cell_type": "code",
   "execution_count": 21,
   "id": "6226aa29-4162-41e9-a2d1-9bd09df9bdbf",
   "metadata": {},
   "outputs": [],
   "source": [
    "true['class'] = 0\n",
    "fake['class'] = 1"
   ]
  },
  {
   "cell_type": "code",
   "execution_count": 22,
   "id": "27de04c5-8cd4-438a-bdc1-1f5682675875",
   "metadata": {},
   "outputs": [
    {
     "data": {
      "text/plain": [
       "Index(['Title', 'Author', 'Text', 'class'], dtype='object')"
      ]
     },
     "execution_count": 22,
     "metadata": {},
     "output_type": "execute_result"
    }
   ],
   "source": [
    "true.columns"
   ]
  },
  {
   "cell_type": "code",
   "execution_count": 23,
   "id": "049dc04b-0505-4adc-b600-52a851f349d4",
   "metadata": {},
   "outputs": [
    {
     "data": {
      "text/plain": [
       "Index(['Title', 'Author', 'Text', 'class'], dtype='object')"
      ]
     },
     "execution_count": 23,
     "metadata": {},
     "output_type": "execute_result"
    }
   ],
   "source": [
    "fake.columns"
   ]
  },
  {
   "cell_type": "markdown",
   "id": "d0013eab-1c1a-4218-8baf-4e3aea5baf32",
   "metadata": {},
   "source": [
    "Remove all columns except text and class"
   ]
  },
  {
   "cell_type": "code",
   "execution_count": 24,
   "id": "fc4f030e-0a0f-4f95-b0e3-59a52e6c6b48",
   "metadata": {},
   "outputs": [],
   "source": [
    "true = true[['Text', 'class']]"
   ]
  },
  {
   "cell_type": "code",
   "execution_count": 25,
   "id": "3dc96a7c-f4a2-4e4b-a0db-d1972f77084c",
   "metadata": {},
   "outputs": [],
   "source": [
    "fake = fake[['Text', 'class']]"
   ]
  },
  {
   "cell_type": "code",
   "execution_count": 26,
   "id": "b786b15e-fc37-41c8-9eac-3e24d71da57b",
   "metadata": {},
   "outputs": [
    {
     "data": {
      "text/plain": [
       "(10349, 2)"
      ]
     },
     "execution_count": 26,
     "metadata": {},
     "output_type": "execute_result"
    }
   ],
   "source": [
    "true.shape"
   ]
  },
  {
   "cell_type": "code",
   "execution_count": 27,
   "id": "e468aaab-ad1c-429c-8d7b-8d5ba77220f1",
   "metadata": {},
   "outputs": [
    {
     "data": {
      "text/plain": [
       "(10330, 2)"
      ]
     },
     "execution_count": 27,
     "metadata": {},
     "output_type": "execute_result"
    }
   ],
   "source": [
    "fake.shape"
   ]
  },
  {
   "cell_type": "markdown",
   "id": "11bdacb9-4018-4d4a-acaf-2037dfec5442",
   "metadata": {},
   "source": [
    "combine fake and true datasets into one dataset"
   ]
  },
  {
   "cell_type": "code",
   "execution_count": 28,
   "id": "bad35f41-9f15-4b15-8c8d-82ced92ee759",
   "metadata": {},
   "outputs": [],
   "source": [
    "data = true.append(fake, ignore_index = True)"
   ]
  },
  {
   "cell_type": "code",
   "execution_count": 29,
   "id": "583fc44e-374b-47bb-ae16-b4be0ad9bb05",
   "metadata": {},
   "outputs": [
    {
     "data": {
      "text/html": [
       "<div>\n",
       "<style scoped>\n",
       "    .dataframe tbody tr th:only-of-type {\n",
       "        vertical-align: middle;\n",
       "    }\n",
       "\n",
       "    .dataframe tbody tr th {\n",
       "        vertical-align: top;\n",
       "    }\n",
       "\n",
       "    .dataframe thead th {\n",
       "        text-align: right;\n",
       "    }\n",
       "</style>\n",
       "<table border=\"1\" class=\"dataframe\">\n",
       "  <thead>\n",
       "    <tr style=\"text-align: right;\">\n",
       "      <th></th>\n",
       "      <th>Text</th>\n",
       "      <th>class</th>\n",
       "    </tr>\n",
       "  </thead>\n",
       "  <tbody>\n",
       "    <tr>\n",
       "      <th>11005</th>\n",
       "      <td>merkel says facebook, google 'distort percepti...</td>\n",
       "      <td>1</td>\n",
       "    </tr>\n",
       "    <tr>\n",
       "      <th>8607</th>\n",
       "      <td>what donald trump got wrong on stop-and-frisk ...</td>\n",
       "      <td>0</td>\n",
       "    </tr>\n",
       "    <tr>\n",
       "      <th>2462</th>\n",
       "      <td>idaho town is rattled months after reports of ...</td>\n",
       "      <td>0</td>\n",
       "    </tr>\n",
       "    <tr>\n",
       "      <th>20126</th>\n",
       "      <td>nan</td>\n",
       "      <td>1</td>\n",
       "    </tr>\n",
       "    <tr>\n",
       "      <th>513</th>\n",
       "      <td>after blast, new yorkers examine themselves fo...</td>\n",
       "      <td>0</td>\n",
       "    </tr>\n",
       "  </tbody>\n",
       "</table>\n",
       "</div>"
      ],
      "text/plain": [
       "                                                    Text  class\n",
       "11005  merkel says facebook, google 'distort percepti...      1\n",
       "8607   what donald trump got wrong on stop-and-frisk ...      0\n",
       "2462   idaho town is rattled months after reports of ...      0\n",
       "20126                                                nan      1\n",
       "513    after blast, new yorkers examine themselves fo...      0"
      ]
     },
     "execution_count": 29,
     "metadata": {},
     "output_type": "execute_result"
    }
   ],
   "source": [
    "data.sample(5)"
   ]
  },
  {
   "cell_type": "markdown",
   "id": "b01d97cf-3dc9-42bc-93c5-ab2c943ecae2",
   "metadata": {},
   "source": [
    "remove special characters from text"
   ]
  },
  {
   "cell_type": "code",
   "execution_count": 30,
   "id": "ef5d00e0-4321-4187-ab27-1d4654bd6ba6",
   "metadata": {},
   "outputs": [],
   "source": [
    "data['Text'] = data['Text'].apply(lambda x: ps.remove_special_chars(x))"
   ]
  },
  {
   "cell_type": "code",
   "execution_count": 31,
   "id": "a40540c4-068c-4b90-9f4e-e30598d29a21",
   "metadata": {},
   "outputs": [
    {
     "data": {
      "text/html": [
       "<div>\n",
       "<style scoped>\n",
       "    .dataframe tbody tr th:only-of-type {\n",
       "        vertical-align: middle;\n",
       "    }\n",
       "\n",
       "    .dataframe tbody tr th {\n",
       "        vertical-align: top;\n",
       "    }\n",
       "\n",
       "    .dataframe thead th {\n",
       "        text-align: right;\n",
       "    }\n",
       "</style>\n",
       "<table border=\"1\" class=\"dataframe\">\n",
       "  <thead>\n",
       "    <tr style=\"text-align: right;\">\n",
       "      <th></th>\n",
       "      <th>Text</th>\n",
       "      <th>class</th>\n",
       "    </tr>\n",
       "  </thead>\n",
       "  <tbody>\n",
       "    <tr>\n",
       "      <th>0</th>\n",
       "      <td>flynn hillary clinton big woman on campus brei...</td>\n",
       "      <td>0</td>\n",
       "    </tr>\n",
       "    <tr>\n",
       "      <th>1</th>\n",
       "      <td>jackie mason hollywood would love trump if he ...</td>\n",
       "      <td>0</td>\n",
       "    </tr>\n",
       "    <tr>\n",
       "      <th>2</th>\n",
       "      <td>benoît hamon wins french socialist partys pres...</td>\n",
       "      <td>0</td>\n",
       "    </tr>\n",
       "    <tr>\n",
       "      <th>3</th>\n",
       "      <td>excerpts from a draft script for donald trumps...</td>\n",
       "      <td>0</td>\n",
       "    </tr>\n",
       "    <tr>\n",
       "      <th>4</th>\n",
       "      <td>a backchannel plan for ukraine and russia cour...</td>\n",
       "      <td>0</td>\n",
       "    </tr>\n",
       "  </tbody>\n",
       "</table>\n",
       "</div>"
      ],
      "text/plain": [
       "                                                Text  class\n",
       "0  flynn hillary clinton big woman on campus brei...      0\n",
       "1  jackie mason hollywood would love trump if he ...      0\n",
       "2  benoît hamon wins french socialist partys pres...      0\n",
       "3  excerpts from a draft script for donald trumps...      0\n",
       "4  a backchannel plan for ukraine and russia cour...      0"
      ]
     },
     "execution_count": 31,
     "metadata": {},
     "output_type": "execute_result"
    }
   ],
   "source": [
    "data.head()"
   ]
  },
  {
   "cell_type": "markdown",
   "id": "747fd0b6-eeff-414d-ad83-caa71898fbb2",
   "metadata": {},
   "source": [
    "Separate the dataset where z holds all text that will be converted into vectors and y holds the truth values of every news story"
   ]
  },
  {
   "cell_type": "code",
   "execution_count": 32,
   "id": "9bf12684-a5ff-4cf4-902d-78d90e83d3dc",
   "metadata": {},
   "outputs": [],
   "source": [
    "z = [d.split() for d in data['Text'].tolist()]"
   ]
  },
  {
   "cell_type": "code",
   "execution_count": 33,
   "id": "b2000816-9638-423c-82c6-c893f3a437c4",
   "metadata": {},
   "outputs": [],
   "source": [
    "y = data['class'].values"
   ]
  },
  {
   "cell_type": "code",
   "execution_count": 34,
   "id": "ba5a3712-c32d-440f-8bfe-4e8648e99165",
   "metadata": {},
   "outputs": [
    {
     "data": {
      "text/plain": [
       "list"
      ]
     },
     "execution_count": 34,
     "metadata": {},
     "output_type": "execute_result"
    }
   ],
   "source": [
    "type(z)"
   ]
  },
  {
   "cell_type": "code",
   "execution_count": 35,
   "id": "c430da2e-1644-4208-a495-aa82852f8048",
   "metadata": {},
   "outputs": [
    {
     "name": "stdout",
     "output_type": "stream",
     "text": [
      "['flynn', 'hillary', 'clinton', 'big', 'woman', 'on', 'campus', 'breitbart', 'ever', 'get', 'the', 'feeling', 'your', 'life', 'circles', 'the', 'roundabout', 'rather', 'than', 'heads', 'in', 'a', 'straight', 'line', 'toward', 'the', 'intended', 'destination', 'hillary', 'clinton', 'remains', 'the', 'big', 'woman', 'on', 'campus', 'in', 'leafy', 'liberal', 'wellesley', 'massachusetts', 'everywhere', 'else', 'votes', 'her', 'most', 'likely', 'to', 'don', 'her', 'inauguration', 'dress', 'for', 'the', 'remainder', 'of', 'her', 'days', 'the', 'way', 'miss', 'havisham', 'forever', 'wore', 'that', 'wedding', 'dress', 'speaking', 'of', 'great', 'expectations', 'hillary', 'rodham', 'overflowed', 'with', 'them', '48', 'years', 'ago', 'when', 'she', 'first', 'addressed', 'a', 'wellesley', 'graduating', 'class', 'the', 'president', 'of', 'the', 'college', 'informed', 'those', 'gathered', 'in', '1969', 'that', 'the', 'students', 'needed', 'no', 'debate', 'so', 'far', 'as', 'i', 'could', 'ascertain', 'as', 'to', 'who', 'their', 'spokesman', 'was', 'to', 'be', 'kind', 'of', 'the', 'like', 'the', 'democratic', 'primaries', 'in', '2016', 'minus', 'the', 'terms', 'unknown', 'then', 'even', 'at', 'a', 'seven', 'sisters', 'school', 'i', 'am', 'very', 'glad', 'that', 'miss', 'adams', 'made', 'it', 'clear', 'that', 'what', 'i', 'am', 'speaking', 'for', 'today', 'is', 'all', 'of', 'us', 'the', '400', 'of', 'us', 'miss', 'rodham', 'told', 'her', 'classmates', 'after', 'appointing', 'herself', 'edger', 'bergen', 'to', 'the', 'charlie', 'mccarthys', 'and', 'mortimer', 'snerds', 'in', 'attendance', 'the', 'bespectacled', 'in', 'granny', 'glasses', 'awarding', 'her', 'matronly', 'wisdom', 'or', 'at', 'least', 'john', 'lennon', 'wisdom', 'took', 'issue', 'with', 'the', 'previous', 'speaker', 'despite', 'becoming', 'the', 'first', 'to', 'win', 'election', 'to', 'a', 'seat', 'in', 'the', 'u', 's', 'senate', 'since', 'reconstruction', 'edward', 'brooke', 'came', 'in', 'for', 'criticism', 'for', 'calling', 'for', 'empathy', 'for', 'the', 'goals', 'of', 'protestors', 'as', 'he', 'criticized', 'tactics', 'though', 'clinton', 'in', 'her', 'senior', 'thesis', 'on', 'saul', 'alinsky', 'lamented', 'black', 'power', 'demagogues', 'and', 'elitist', 'arrogance', 'and', 'repressive', 'intolerance', 'within', 'the', 'new', 'left', 'similar', 'words', 'coming', 'out', 'of', 'a', 'republican', 'necessitated', 'a', 'brief', 'rebuttal', 'trust', 'rodham', 'ironically', 'observed', 'in', '1969', 'this', 'is', 'one', 'word', 'that', 'when', 'i', 'asked', 'the', 'class', 'at', 'our', 'rehearsal', 'what', 'it', 'was', 'they', 'wanted', 'me', 'to', 'say', 'for', 'them', 'everyone', 'came', 'up', 'to', 'me', 'and', 'said', 'talk', 'about', 'trust', 'talk', 'about', 'the', 'lack', 'of', 'trust', 'both', 'for', 'us', 'and', 'the', 'way', 'we', 'feel', 'about', 'others', 'talk', 'about', 'the', 'trust', 'bust', 'what', 'can', 'you', 'say', 'about', 'it', 'what', 'can', 'you', 'say', 'about', 'a', 'feeling', 'that', 'permeates', 'a', 'generation', 'and', 'that', 'perhaps', 'is', 'not', 'even', 'understood', 'by', 'those', 'who', 'are', 'distrusted', 'the', 'trust', 'bust', 'certainly', 'busted', 'clintons', '2016', 'plans', 'she', 'certainly', 'did', 'not', 'even', 'understand', 'that', 'people', 'distrusted', 'her', 'after', 'whitewater', 'travelgate', 'the', 'vast', 'conspiracy', 'benghazi', 'and', 'the', 'missing', 'emails', 'clinton', 'found', 'herself', 'the', 'distrusted', 'voice', 'on', 'friday', 'there', 'was', 'a', 'load', 'of', 'compromising', 'on', 'the', 'road', 'to', 'the', 'broadening', 'of', 'her', 'political', 'horizons', 'and', 'distrust', 'from', 'the', 'american', 'people', 'trump', 'edged', 'her', '48', 'percent', 'to', '38', 'percent', 'on', 'the', 'question', 'immediately', 'prior', 'to', 'novembers', 'election', 'stood', 'as', 'a', 'major', 'reason', 'for', 'the', 'closing', 'of', 'those', 'horizons', 'clinton', 'described', 'her', 'vanquisher', 'and', 'his', 'supporters', 'as', 'embracing', 'a', 'lie', 'a', 'con', 'alternative', 'facts', 'and', 'a', 'assault', 'on', 'truth', 'and', 'reason', 'she', 'failed', 'to', 'explain', 'why', 'the', 'american', 'people', 'chose', 'his', 'lies', 'over', 'her', 'truth', 'as', 'the', 'history', 'majors', 'among', 'you', 'here', 'today', 'know', 'all', 'too', 'well', 'when', 'people', 'in', 'power', 'invent', 'their', 'own', 'facts', 'and', 'attack', 'those', 'who', 'question', 'them', 'it', 'can', 'mark', 'the', 'beginning', 'of', 'the', 'end', 'of', 'a', 'free', 'society', 'she', 'offered', 'that', 'is', 'not', 'hyperbole', 'like', 'so', 'many', 'people', 'to', 'emerge', 'from', 'the', '1960s', 'hillary', 'clinton', 'embarked', 'upon', 'a', 'long', 'strange', 'trip', 'from', 'high', 'school', 'goldwater', 'girl', 'and', 'wellesley', 'college', 'republican', 'president', 'to', 'democratic', 'politician', 'clinton', 'drank', 'in', 'the', 'times', 'and', 'the', 'place', 'that', 'gave', 'her', 'a', 'degree', 'more', 'significantly', 'she', 'went', 'from', 'idealist', 'to', 'cynic', 'as', 'a', 'comparison', 'of', 'her', 'two', 'wellesley', 'commencement', 'addresses', 'show', 'way', 'back', 'when', 'she', 'lamented', 'that', 'for', 'too', 'long', 'our', 'leaders', 'have', 'viewed', 'politics', 'as', 'the', 'art', 'of', 'the', 'possible', 'and', 'the', 'challenge', 'now', 'is', 'to', 'practice', 'politics', 'as', 'the', 'art', 'of', 'making', 'what', 'appears', 'to', 'be', 'impossible', 'possible', 'now', 'as', 'the', 'big', 'woman', 'on', 'campus', 'but', 'the', 'odd', 'woman', 'out', 'of', 'the', 'white', 'house', 'she', 'wonders', 'how', 'her', 'current', 'station', 'is', 'even', 'possible', 'why', 'arent', 'i', '50', 'points', 'ahead', 'she', 'asked', 'in', 'september', 'in', 'may', 'she', 'asks', 'why', 'she', 'isnt', 'president', 'the', 'woman', 'famously', 'dubbed', 'a', 'congenital', 'liar', 'by', 'bill', 'safire', 'concludes', 'that', 'lies', 'did', 'her', 'in', 'theirs', 'mind', 'you', 'not', 'hers', 'getting', 'stood', 'up', 'on', 'election', 'day', 'like', 'finding', 'yourself', 'the', 'jilted', 'bride', 'on', 'your', 'wedding', 'day', 'inspires', 'dangerous', 'delusions']\n"
     ]
    }
   ],
   "source": [
    "print(z[0])"
   ]
  },
  {
   "cell_type": "markdown",
   "id": "56abae9b-6833-4ad2-b701-c4ff224ab926",
   "metadata": {
    "tags": []
   },
   "source": [
    "## Word2Vec Model"
   ]
  },
  {
   "cell_type": "markdown",
   "id": "3b9ae9a3-bee0-41b3-af41-fc98e7e30a8b",
   "metadata": {},
   "source": [
    "Define word2vec model with the input being the list of text of news stories, the vector size, window which determines how many words are taken in a batch and a min count of 1 to ensure that a vector is generated for every word"
   ]
  },
  {
   "cell_type": "code",
   "execution_count": 36,
   "id": "101963e2-a4af-485e-a914-5311c34aa93b",
   "metadata": {},
   "outputs": [],
   "source": [
    "dim = 50\n",
    "w2v = gensim.models.Word2Vec(sentences=z, vector_size=dim, window=10, min_count=1)"
   ]
  },
  {
   "cell_type": "markdown",
   "id": "a2be153c-523f-4c75-b20d-6d000b0923ae",
   "metadata": {},
   "source": [
    "Determine how many vectors were created"
   ]
  },
  {
   "cell_type": "code",
   "execution_count": 37,
   "id": "8dad359d-9569-4498-82b2-6b005d8f2289",
   "metadata": {},
   "outputs": [
    {
     "data": {
      "text/plain": [
       "218048"
      ]
     },
     "execution_count": 37,
     "metadata": {},
     "output_type": "execute_result"
    }
   ],
   "source": [
    "len(w2v.wv.index_to_key)"
   ]
  },
  {
   "cell_type": "code",
   "execution_count": 38,
   "id": "6bed6acb-d399-4c0f-9599-092575e49d10",
   "metadata": {},
   "outputs": [
    {
     "data": {
      "text/plain": [
       "307"
      ]
     },
     "execution_count": 38,
     "metadata": {},
     "output_type": "execute_result"
    }
   ],
   "source": [
    "w2v.wv.get_index('china')"
   ]
  },
  {
   "cell_type": "code",
   "execution_count": 39,
   "id": "fbecea1f-bc84-4d26-830d-fa784c6b8276",
   "metadata": {},
   "outputs": [
    {
     "data": {
      "text/plain": [
       "array([  0.33550447,   0.6616602 ,  -0.8525096 ,  -1.0247927 ,\n",
       "         0.5304433 ,  -3.8714738 ,  -2.0178924 ,   3.8229773 ,\n",
       "         0.87240666,   1.5356863 ,   0.88323957,  -0.14158408,\n",
       "         4.5776553 ,  -5.8895364 ,   2.6933231 ,  -3.3560169 ,\n",
       "         0.23510821,  -2.9897525 ,   2.9135687 ,  -1.7613362 ,\n",
       "        -0.17852773,  -0.38584533,  -3.453166  ,  -2.1006052 ,\n",
       "         0.9831856 ,   2.0191305 ,   4.112972  ,  -1.7233894 ,\n",
       "         0.6820285 ,  -3.1952596 ,  -1.7579335 ,   6.4575706 ,\n",
       "        -0.8075595 , -10.0965185 ,   4.0238557 ,   0.43844455,\n",
       "         2.662137  ,   2.1222699 ,  -6.255642  ,   0.7445745 ,\n",
       "         3.4056492 ,  -1.6420257 ,   1.5256184 ,   0.09483504,\n",
       "         2.7087655 ,  -2.4537265 ,  -0.98635185,   2.4754353 ,\n",
       "         0.70932937,  -0.29705134], dtype=float32)"
      ]
     },
     "execution_count": 39,
     "metadata": {},
     "output_type": "execute_result"
    }
   ],
   "source": [
    "w2v.wv['china']"
   ]
  },
  {
   "cell_type": "code",
   "execution_count": 40,
   "id": "6ffa5d7c-7def-4a87-9743-f2f32d576060",
   "metadata": {},
   "outputs": [
    {
     "data": {
      "text/plain": [
       "[('beijing', 0.8858924508094788),\n",
       " ('taiwan', 0.8442622423171997),\n",
       " ('japan', 0.8215535879135132),\n",
       " ('chinas', 0.8026145696640015),\n",
       " ('pyongyang', 0.7981662154197693),\n",
       " ('india', 0.7819934487342834),\n",
       " ('asia', 0.7584371566772461),\n",
       " ('chinese', 0.7518907189369202),\n",
       " ('gazprom', 0.7409873604774475),\n",
       " ('organizationsco', 0.7324265837669373)]"
      ]
     },
     "execution_count": 40,
     "metadata": {},
     "output_type": "execute_result"
    }
   ],
   "source": [
    "w2v.wv.most_similar('china')"
   ]
  },
  {
   "cell_type": "markdown",
   "id": "9240a538-431a-419b-a3ff-ab86a2116a94",
   "metadata": {},
   "source": [
    "Define tokenizer and feed text into it"
   ]
  },
  {
   "cell_type": "code",
   "execution_count": 41,
   "id": "fc7beb2d-827d-4318-bb6f-f768904ad0c7",
   "metadata": {},
   "outputs": [],
   "source": [
    "tokenizer = Tokenizer()\n",
    "tokenizer.fit_on_texts(z)"
   ]
  },
  {
   "cell_type": "markdown",
   "id": "9e963d8e-4d51-47fa-b536-f1e0255801f3",
   "metadata": {},
   "source": [
    "Convert text into sequences"
   ]
  },
  {
   "cell_type": "code",
   "execution_count": 42,
   "id": "071c73e9-d674-41ef-a751-1da9418b143b",
   "metadata": {},
   "outputs": [],
   "source": [
    "z = tokenizer.texts_to_sequences(z)"
   ]
  },
  {
   "cell_type": "markdown",
   "id": "e4b9cc15-5229-431d-b1a0-7a4d07757e53",
   "metadata": {},
   "source": [
    "Determine the total number of words in a news story"
   ]
  },
  {
   "cell_type": "code",
   "execution_count": 43,
   "id": "578218b6-5c87-46bf-a515-0f9fa2e225a8",
   "metadata": {},
   "outputs": [
    {
     "data": {
      "image/png": "[encoded data removed]",
      "text/plain": [
       "<Figure size 432x288 with 1 Axes>"
      ]
     },
     "metadata": {
      "needs_background": "light"
     },
     "output_type": "display_data"
    }
   ],
   "source": [
    "plt.hist([len(x) for x in z], bins = 200)\n",
    "plt.show()"
   ]
  },
  {
   "cell_type": "markdown",
   "id": "7a136b2e-dc32-4460-8444-98d22b8cefa5",
   "metadata": {},
   "source": [
    "Find number of news stories that are more than 1000 words"
   ]
  },
  {
   "cell_type": "code",
   "execution_count": 44,
   "id": "2f2e2b37-6f69-4891-8030-a1297e63947b",
   "metadata": {},
   "outputs": [
    {
     "data": {
      "text/plain": [
       "5572"
      ]
     },
     "execution_count": 44,
     "metadata": {},
     "output_type": "execute_result"
    }
   ],
   "source": [
    "nos = np.array([len(x) for x in z])\n",
    "len(nos[nos > 1000])"
   ]
  },
  {
   "cell_type": "markdown",
   "id": "98b1b87a-6364-41a8-be90-14839b5a6879",
   "metadata": {},
   "source": [
    "Ensure that all news stories have 1000 words. Pad if less than 1000, truncate if more than 1000"
   ]
  },
  {
   "cell_type": "code",
   "execution_count": 45,
   "id": "7a811e0c-8c2d-4ca9-80d7-281e00e2e027",
   "metadata": {},
   "outputs": [],
   "source": [
    "maxlen = 1000\n",
    "z = pad_sequences(z, maxlen = maxlen)"
   ]
  },
  {
   "cell_type": "code",
   "execution_count": 46,
   "id": "37aabc0e-1bf4-4c7f-98b8-6ed5e01244a2",
   "metadata": {},
   "outputs": [
    {
     "data": {
      "text/plain": [
       "1000"
      ]
     },
     "execution_count": 46,
     "metadata": {},
     "output_type": "execute_result"
    }
   ],
   "source": [
    "len(z[101])"
   ]
  },
  {
   "cell_type": "markdown",
   "id": "329d01e6-6c69-4e00-9a96-dbb644371368",
   "metadata": {},
   "source": [
    "Add 1 to the vocabulary so that if the model finds an unkwown word, it creates a new sequence for those unknown words"
   ]
  },
  {
   "cell_type": "code",
   "execution_count": 47,
   "id": "e9a50d1e-e265-4cc3-976a-529f6af7ec00",
   "metadata": {},
   "outputs": [],
   "source": [
    "vocab_size = len(tokenizer.word_index) + 1"
   ]
  },
  {
   "cell_type": "code",
   "execution_count": 48,
   "id": "673bd281-83c8-4500-996a-f92831ab8ac8",
   "metadata": {},
   "outputs": [],
   "source": [
    "vocab = tokenizer.word_index"
   ]
  },
  {
   "cell_type": "markdown",
   "id": "cd313961-8009-44d4-adf2-04e7bc39fbd2",
   "metadata": {},
   "source": [
    "Obtain initial weight of vectors for use in LSTM model"
   ]
  },
  {
   "cell_type": "code",
   "execution_count": 49,
   "id": "1f694853-601c-4478-83fb-52900b143ce0",
   "metadata": {},
   "outputs": [],
   "source": [
    "def get_weight_matrix(model):\n",
    "    weight_matrix = np.zeros((vocab_size, dim))\n",
    "    for word, i in vocab.items():\n",
    "        weight_matrix[i] = model.wv[word]\n",
    "    return weight_matrix"
   ]
  },
  {
   "cell_type": "code",
   "execution_count": 50,
   "id": "4f621248-39f9-4711-8776-858da541d597",
   "metadata": {},
   "outputs": [],
   "source": [
    "embedding_vectors = get_weight_matrix(w2v)"
   ]
  },
  {
   "cell_type": "code",
   "execution_count": 51,
   "id": "c7505514-d4bf-43a1-a3e8-7af8fed2054a",
   "metadata": {},
   "outputs": [
    {
     "data": {
      "text/plain": [
       "(218049, 50)"
      ]
     },
     "execution_count": 51,
     "metadata": {},
     "output_type": "execute_result"
    }
   ],
   "source": [
    "embedding_vectors.shape"
   ]
  },
  {
   "cell_type": "markdown",
   "id": "d436de2c-74a0-4718-8c66-de9ba177f90a",
   "metadata": {},
   "source": [
    "## LSTM Model"
   ]
  },
  {
   "cell_type": "markdown",
   "id": "915ff193-1469-42a9-b0f3-bd424de11b99",
   "metadata": {},
   "source": [
    "Define model"
   ]
  },
  {
   "cell_type": "code",
   "execution_count": 52,
   "id": "b6fd584c-2940-493b-90fc-e9fea2cf01bc",
   "metadata": {},
   "outputs": [],
   "source": [
    "model = Sequential()\n",
    "model.add(Embedding(vocab_size, output_dim = dim, weights = [embedding_vectors], input_length = maxlen, trainable = True))\n",
    "model.add(LSTM(units = 128))\n",
    "model.add(Dense(1, activation = 'sigmoid'))\n",
    "model.compile(optimizer = 'adam', loss = 'binary_crossentropy', metrics = ['acc'])"
   ]
  },
  {
   "cell_type": "code",
   "execution_count": 53,
   "id": "2511be3a-1dd5-4518-8c12-46ba1b553f98",
   "metadata": {},
   "outputs": [
    {
     "name": "stdout",
     "output_type": "stream",
     "text": [
      "Model: \"sequential\"\n",
      "_________________________________________________________________\n",
      " Layer (type)                Output Shape              Param #   \n",
      "=================================================================\n",
      " embedding (Embedding)       (None, 1000, 50)          10902450  \n",
      "                                                                 \n",
      " lstm (LSTM)                 (None, 128)               91648     \n",
      "                                                                 \n",
      " dense (Dense)               (None, 1)                 129       \n",
      "                                                                 \n",
      "=================================================================\n",
      "Total params: 10,994,227\n",
      "Trainable params: 10,994,227\n",
      "Non-trainable params: 0\n",
      "_________________________________________________________________\n"
     ]
    }
   ],
   "source": [
    "model.summary()"
   ]
  },
  {
   "cell_type": "markdown",
   "id": "554fbcf1-7d47-4ed6-bf74-da78e83ef87a",
   "metadata": {},
   "source": [
    "Create train:test split of 75:25"
   ]
  },
  {
   "cell_type": "code",
   "execution_count": 54,
   "id": "e75117de-b78e-4a3f-997f-1edffc97e5d6",
   "metadata": {},
   "outputs": [],
   "source": [
    "z_train, z_test, y_train, y_test = train_test_split(z,y)"
   ]
  },
  {
   "cell_type": "markdown",
   "id": "2ac3011b-9cc4-4afc-a1f1-c50771f153c6",
   "metadata": {},
   "source": [
    "Train model"
   ]
  },
  {
   "cell_type": "code",
   "execution_count": 55,
   "id": "ee958a3d-0972-4200-89a3-e30d5c7863c6",
   "metadata": {},
   "outputs": [
    {
     "name": "stdout",
     "output_type": "stream",
     "text": [
      "Epoch 1/9\n",
      "340/340 [==============================] - 398s 1s/step - loss: 0.3837 - acc: 0.8206 - val_loss: 0.2548 - val_acc: 0.8947\n",
      "Epoch 2/9\n",
      "340/340 [==============================] - 390s 1s/step - loss: 0.2026 - acc: 0.9209 - val_loss: 0.1920 - val_acc: 0.9218\n",
      "Epoch 3/9\n",
      "340/340 [==============================] - 398s 1s/step - loss: 0.1167 - acc: 0.9562 - val_loss: 0.1568 - val_acc: 0.9385\n",
      "Epoch 4/9\n",
      "340/340 [==============================] - 400s 1s/step - loss: 0.0711 - acc: 0.9760 - val_loss: 0.0851 - val_acc: 0.9708\n",
      "Epoch 5/9\n",
      "340/340 [==============================] - 421s 1s/step - loss: 0.0424 - acc: 0.9850 - val_loss: 0.0811 - val_acc: 0.9716\n",
      "Epoch 6/9\n",
      "340/340 [==============================] - 414s 1s/step - loss: 0.0234 - acc: 0.9928 - val_loss: 0.0884 - val_acc: 0.9718\n",
      "Epoch 7/9\n",
      "340/340 [==============================] - 415s 1s/step - loss: 0.0220 - acc: 0.9932 - val_loss: 0.0827 - val_acc: 0.9768\n",
      "Epoch 8/9\n",
      "340/340 [==============================] - 425s 1s/step - loss: 0.0097 - acc: 0.9980 - val_loss: 0.0801 - val_acc: 0.9738\n",
      "Epoch 9/9\n",
      "340/340 [==============================] - 428s 1s/step - loss: 0.0081 - acc: 0.9978 - val_loss: 0.0846 - val_acc: 0.9776\n"
     ]
    }
   ],
   "source": [
    "system = model.fit(z_train,y_train, validation_split=0.3, epochs=9)"
   ]
  },
  {
   "cell_type": "code",
   "execution_count": 56,
   "id": "fd0c2e6c-2626-4317-bb80-3c3f8aade7b1",
   "metadata": {},
   "outputs": [
    {
     "name": "stdout",
     "output_type": "stream",
     "text": [
      "dict_keys(['loss', 'acc', 'val_loss', 'val_acc'])\n"
     ]
    }
   ],
   "source": [
    "print(system.history.keys())"
   ]
  },
  {
   "cell_type": "markdown",
   "id": "34b62085-4d7a-47d1-be32-1a1a9dd3ea2c",
   "metadata": {},
   "source": [
    "Plot training and validation accuracy and loss"
   ]
  },
  {
   "cell_type": "code",
   "execution_count": 57,
   "id": "f2648209-e8d7-40ae-87d1-3e5eeab75c12",
   "metadata": {
    "tags": []
   },
   "outputs": [
    {
     "data": {
      "image/png": "[encoded data removed]",
      "text/plain": [
       "<Figure size 432x288 with 1 Axes>"
      ]
     },
     "metadata": {
      "needs_background": "light"
     },
     "output_type": "display_data"
    }
   ],
   "source": [
    "plt.plot(system.history['acc'])\n",
    "plt.plot(system.history['val_acc'])\n",
    "plt.title('model accuracy')\n",
    "plt.ylabel('accuracy')\n",
    "plt.xlabel('epoch')\n",
    "plt.legend(['train', 'validation'], loc='lower right')\n",
    "plt.show()"
   ]
  },
  {
   "cell_type": "code",
   "execution_count": 58,
   "id": "88395007-54a1-48b2-b023-a91c79bf1ba5",
   "metadata": {},
   "outputs": [
    {
     "data": {
      "image/png": "[encoded data removed]",
      "text/plain": [
       "<Figure size 432x288 with 1 Axes>"
      ]
     },
     "metadata": {
      "needs_background": "light"
     },
     "output_type": "display_data"
    }
   ],
   "source": [
    "plt.plot(system.history['loss'])\n",
    "plt.plot(system.history['val_loss'])\n",
    "plt.title('model loss')\n",
    "plt.ylabel('loss')\n",
    "plt.xlabel('epoch')\n",
    "plt.legend(['train', 'validation'], loc='upper right')\n",
    "plt.show()"
   ]
  },
  {
   "cell_type": "markdown",
   "id": "59ceeed5-47a1-4878-b9e0-8935f152b4dc",
   "metadata": {},
   "source": [
    "Test model with test split"
   ]
  },
  {
   "cell_type": "code",
   "execution_count": 59,
   "id": "9c367bea-1353-46fa-acd8-4acd677ccf22",
   "metadata": {},
   "outputs": [],
   "source": [
    "y_pred = (model.predict(z_test) >= 0.5).astype(int)"
   ]
  },
  {
   "cell_type": "code",
   "execution_count": 60,
   "id": "9600b01f-4465-477d-a636-59c995428002",
   "metadata": {},
   "outputs": [
    {
     "data": {
      "text/plain": [
       "0.9748549323017408"
      ]
     },
     "execution_count": 60,
     "metadata": {},
     "output_type": "execute_result"
    }
   ],
   "source": [
    "accuracy_score(y_test, y_pred)"
   ]
  },
  {
   "cell_type": "code",
   "execution_count": 61,
   "id": "d122cbd7-60f4-47cc-af96-a629c44952d0",
   "metadata": {},
   "outputs": [
    {
     "name": "stdout",
     "output_type": "stream",
     "text": [
      "              precision    recall  f1-score   support\n",
      "\n",
      "           0       0.98      0.97      0.97      2571\n",
      "           1       0.97      0.98      0.98      2599\n",
      "\n",
      "    accuracy                           0.97      5170\n",
      "   macro avg       0.97      0.97      0.97      5170\n",
      "weighted avg       0.97      0.97      0.97      5170\n",
      "\n"
     ]
    }
   ],
   "source": [
    "print(classification_report(y_test, y_pred))"
   ]
  },
  {
   "cell_type": "markdown",
   "id": "eede43a6-12a9-45f1-a344-a09707045da2",
   "metadata": {},
   "source": [
    "Test model with Test Dataset"
   ]
  },
  {
   "cell_type": "code",
   "execution_count": 62,
   "id": "63ce1085-eefd-472d-8ecc-eb7eacd19cf3",
   "metadata": {},
   "outputs": [],
   "source": [
    "test = pd.read_csv('test.csv')"
   ]
  },
  {
   "cell_type": "code",
   "execution_count": 63,
   "id": "0766bcd3-5034-4644-84f5-8ede92d2702a",
   "metadata": {},
   "outputs": [],
   "source": [
    "values = pd.read_csv('Truth Values.csv')"
   ]
  },
  {
   "cell_type": "code",
   "execution_count": 64,
   "id": "fd2d5c75-7626-4f79-8222-20e8ae689375",
   "metadata": {},
   "outputs": [
    {
     "data": {
      "text/html": [
       "<div>\n",
       "<style scoped>\n",
       "    .dataframe tbody tr th:only-of-type {\n",
       "        vertical-align: middle;\n",
       "    }\n",
       "\n",
       "    .dataframe tbody tr th {\n",
       "        vertical-align: top;\n",
       "    }\n",
       "\n",
       "    .dataframe thead th {\n",
       "        text-align: right;\n",
       "    }\n",
       "</style>\n",
       "<table border=\"1\" class=\"dataframe\">\n",
       "  <thead>\n",
       "    <tr style=\"text-align: right;\">\n",
       "      <th></th>\n",
       "      <th>id</th>\n",
       "      <th>title</th>\n",
       "      <th>author</th>\n",
       "      <th>text</th>\n",
       "    </tr>\n",
       "  </thead>\n",
       "  <tbody>\n",
       "    <tr>\n",
       "      <th>0</th>\n",
       "      <td>20800</td>\n",
       "      <td>Specter of Trump Loosens Tongues, if Not Purse...</td>\n",
       "      <td>David Streitfeld</td>\n",
       "      <td>PALO ALTO, Calif.  —   After years of scorning...</td>\n",
       "    </tr>\n",
       "    <tr>\n",
       "      <th>1</th>\n",
       "      <td>20801</td>\n",
       "      <td>Russian warships ready to strike terrorists ne...</td>\n",
       "      <td>NaN</td>\n",
       "      <td>Russian warships ready to strike terrorists ne...</td>\n",
       "    </tr>\n",
       "    <tr>\n",
       "      <th>2</th>\n",
       "      <td>20802</td>\n",
       "      <td>#NoDAPL: Native American Leaders Vow to Stay A...</td>\n",
       "      <td>Common Dreams</td>\n",
       "      <td>Videos #NoDAPL: Native American Leaders Vow to...</td>\n",
       "    </tr>\n",
       "    <tr>\n",
       "      <th>3</th>\n",
       "      <td>20803</td>\n",
       "      <td>Tim Tebow Will Attempt Another Comeback, This ...</td>\n",
       "      <td>Daniel Victor</td>\n",
       "      <td>If at first you don’t succeed, try a different...</td>\n",
       "    </tr>\n",
       "    <tr>\n",
       "      <th>4</th>\n",
       "      <td>20804</td>\n",
       "      <td>Keiser Report: Meme Wars (E995)</td>\n",
       "      <td>Truth Broadcast Network</td>\n",
       "      <td>42 mins ago 1 Views 0 Comments 0 Likes 'For th...</td>\n",
       "    </tr>\n",
       "  </tbody>\n",
       "</table>\n",
       "</div>"
      ],
      "text/plain": [
       "      id                                              title  \\\n",
       "0  20800  Specter of Trump Loosens Tongues, if Not Purse...   \n",
       "1  20801  Russian warships ready to strike terrorists ne...   \n",
       "2  20802  #NoDAPL: Native American Leaders Vow to Stay A...   \n",
       "3  20803  Tim Tebow Will Attempt Another Comeback, This ...   \n",
       "4  20804                    Keiser Report: Meme Wars (E995)   \n",
       "\n",
       "                    author                                               text  \n",
       "0         David Streitfeld  PALO ALTO, Calif.  —   After years of scorning...  \n",
       "1                      NaN  Russian warships ready to strike terrorists ne...  \n",
       "2            Common Dreams  Videos #NoDAPL: Native American Leaders Vow to...  \n",
       "3            Daniel Victor  If at first you don’t succeed, try a different...  \n",
       "4  Truth Broadcast Network  42 mins ago 1 Views 0 Comments 0 Likes 'For th...  "
      ]
     },
     "execution_count": 64,
     "metadata": {},
     "output_type": "execute_result"
    }
   ],
   "source": [
    "test.head()"
   ]
  },
  {
   "cell_type": "code",
   "execution_count": 65,
   "id": "d73d0be3-a17b-4a82-a665-2b50cb6931d7",
   "metadata": {},
   "outputs": [
    {
     "data": {
      "text/html": [
       "<div>\n",
       "<style scoped>\n",
       "    .dataframe tbody tr th:only-of-type {\n",
       "        vertical-align: middle;\n",
       "    }\n",
       "\n",
       "    .dataframe tbody tr th {\n",
       "        vertical-align: top;\n",
       "    }\n",
       "\n",
       "    .dataframe thead th {\n",
       "        text-align: right;\n",
       "    }\n",
       "</style>\n",
       "<table border=\"1\" class=\"dataframe\">\n",
       "  <thead>\n",
       "    <tr style=\"text-align: right;\">\n",
       "      <th></th>\n",
       "      <th>id</th>\n",
       "      <th>label</th>\n",
       "    </tr>\n",
       "  </thead>\n",
       "  <tbody>\n",
       "    <tr>\n",
       "      <th>0</th>\n",
       "      <td>20800</td>\n",
       "      <td>0</td>\n",
       "    </tr>\n",
       "    <tr>\n",
       "      <th>1</th>\n",
       "      <td>20801</td>\n",
       "      <td>1</td>\n",
       "    </tr>\n",
       "    <tr>\n",
       "      <th>2</th>\n",
       "      <td>20802</td>\n",
       "      <td>1</td>\n",
       "    </tr>\n",
       "    <tr>\n",
       "      <th>3</th>\n",
       "      <td>20803</td>\n",
       "      <td>0</td>\n",
       "    </tr>\n",
       "    <tr>\n",
       "      <th>4</th>\n",
       "      <td>20804</td>\n",
       "      <td>1</td>\n",
       "    </tr>\n",
       "  </tbody>\n",
       "</table>\n",
       "</div>"
      ],
      "text/plain": [
       "      id  label\n",
       "0  20800      0\n",
       "1  20801      1\n",
       "2  20802      1\n",
       "3  20803      0\n",
       "4  20804      1"
      ]
     },
     "execution_count": 65,
     "metadata": {},
     "output_type": "execute_result"
    }
   ],
   "source": [
    "values.head()"
   ]
  },
  {
   "cell_type": "code",
   "execution_count": 66,
   "id": "f50e557b-7e91-4145-b88c-ec1a8bf0e224",
   "metadata": {},
   "outputs": [],
   "source": [
    "test['text'] = test['text'].apply(lambda x: str(x).lower())"
   ]
  },
  {
   "cell_type": "code",
   "execution_count": 67,
   "id": "bcb6a8df-96b0-4bdf-a7e4-302b331821d7",
   "metadata": {},
   "outputs": [],
   "source": [
    "test['text'] = test['text'].apply(lambda x: ps.remove_special_chars(x))"
   ]
  },
  {
   "cell_type": "code",
   "execution_count": 68,
   "id": "8812a91e-c05a-46fa-b420-13fe243a2f73",
   "metadata": {},
   "outputs": [
    {
     "data": {
      "text/plain": [
       "0    palo alto calif after years of scorning the po...\n",
       "1    russian warships ready to strike terrorists ne...\n",
       "2    videos nodapl native american leaders vow to s...\n",
       "3    if at first you dont succeed try a different s...\n",
       "4    42 mins ago 1 views 0 comments 0 likes for the...\n",
       "Name: text, dtype: object"
      ]
     },
     "execution_count": 68,
     "metadata": {},
     "output_type": "execute_result"
    }
   ],
   "source": [
    "test['text'].head()"
   ]
  },
  {
   "cell_type": "code",
   "execution_count": 69,
   "id": "f50aece9-e4df-4ae8-af92-f09f5e70b12e",
   "metadata": {},
   "outputs": [],
   "source": [
    "x = test['text']\n",
    "x = tokenizer.texts_to_sequences(x)\n",
    "x = pad_sequences(x, maxlen = maxlen)\n",
    "results = (model.predict(x) >= 0.5).astype(int)"
   ]
  },
  {
   "cell_type": "code",
   "execution_count": 70,
   "id": "b63227f8-d191-40d0-8467-fab8a4aacc98",
   "metadata": {},
   "outputs": [],
   "source": [
    "test_values = values['label'].values"
   ]
  },
  {
   "cell_type": "code",
   "execution_count": 71,
   "id": "e44d5952-31ab-4522-b7b8-9658f0201d18",
   "metadata": {},
   "outputs": [
    {
     "data": {
      "text/plain": [
       "0.9401923076923077"
      ]
     },
     "execution_count": 71,
     "metadata": {},
     "output_type": "execute_result"
    }
   ],
   "source": [
    "accuracy_score(test_values, results)"
   ]
  },
  {
   "cell_type": "code",
   "execution_count": 72,
   "id": "bb45e201-ed34-4f72-bf5b-af43843f9634",
   "metadata": {},
   "outputs": [
    {
     "name": "stdout",
     "output_type": "stream",
     "text": [
      "              precision    recall  f1-score   support\n",
      "\n",
      "           0       0.97      0.91      0.94      2656\n",
      "           1       0.91      0.97      0.94      2544\n",
      "\n",
      "    accuracy                           0.94      5200\n",
      "   macro avg       0.94      0.94      0.94      5200\n",
      "weighted avg       0.94      0.94      0.94      5200\n",
      "\n"
     ]
    }
   ],
   "source": [
    "print(classification_report(test_values, results))"
   ]
  },
  {
   "cell_type": "code",
   "execution_count": 73,
   "id": "024fa04a-0d0f-4b2e-a9f4-9761f0f2c9ae",
   "metadata": {},
   "outputs": [],
   "source": [
    "final_results = pd.DataFrame()\n",
    "final_results['id'] = test['id']\n",
    "final_results['label'] = results\n",
    "final_results.to_csv('Results (Dataset Collection 2).csv', index = False)"
   ]
  }
 ],
 "metadata": {
  "kernelspec": {
   "display_name": "Python 3 (ipykernel)",
   "language": "python",
   "name": "python3"
  },
  "language_info": {
   "codemirror_mode": {
    "name": "ipython",
    "version": 3
   },
   "file_extension": ".py",
   "mimetype": "text/x-python",
   "name": "python",
   "nbconvert_exporter": "python",
   "pygments_lexer": "ipython3",
   "version": "3.9.7"
  }
 },
 "nbformat": 4,
 "nbformat_minor": 5
}
