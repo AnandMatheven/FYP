{
 "cells": [
  {
   "cell_type": "markdown",
   "id": "3741939a-aa84-4f72-927e-ee70e428d824",
   "metadata": {},
   "source": [
    "## IMPORT LIBRARIES"
   ]
  },
  {
   "cell_type": "code",
   "execution_count": 1,
   "id": "adf20c92-1740-41ff-9e55-5f398d4b953d",
   "metadata": {},
   "outputs": [],
   "source": [
    "import numpy as np\n",
    "import pandas as pd\n",
    "import matplotlib.pyplot as plt\n",
    "import seaborn as sns\n",
    "import nltk\n",
    "import re\n",
    "from wordcloud import WordCloud\n",
    "import preprocess_kgptalkie as ps\n",
    "import gensim"
   ]
  },
  {
   "cell_type": "code",
   "execution_count": 2,
   "id": "98d84075-01ae-40f8-abe9-356e4121e5c0",
   "metadata": {},
   "outputs": [],
   "source": [
    "from tensorflow.keras.preprocessing.text import Tokenizer\n",
    "from tensorflow.keras.preprocessing.sequence import pad_sequences\n",
    "from tensorflow.keras.models import Sequential\n",
    "from tensorflow.keras.layers import Dense, Embedding, LSTM, Conv1D, MaxPool1D\n",
    "from sklearn.model_selection import train_test_split\n",
    "from sklearn.metrics import classification_report, accuracy_score"
   ]
  },
  {
   "cell_type": "markdown",
   "id": "20043dd5-93aa-4967-8d9c-bea0f2141943",
   "metadata": {},
   "source": [
    "## READ DATASETS"
   ]
  },
  {
   "cell_type": "code",
   "execution_count": 3,
   "id": "e7c3dd6b-ec8c-487f-94e6-bacb95daa08b",
   "metadata": {},
   "outputs": [],
   "source": [
    "fake = pd.read_csv('Fake (Dataset Collection 1).csv')"
   ]
  },
  {
   "cell_type": "code",
   "execution_count": 4,
   "id": "72a588e7-05e9-4dec-8fea-19bc5cb0fbe4",
   "metadata": {},
   "outputs": [],
   "source": [
    "true = pd.read_csv('True (Dataset Collection 1).csv')"
   ]
  },
  {
   "cell_type": "code",
   "execution_count": 5,
   "id": "eaa6fca4-1e7b-4c1f-a157-e5d7ffd4546d",
   "metadata": {},
   "outputs": [
    {
     "data": {
      "text/html": [
       "<div>\n",
       "<style scoped>\n",
       "    .dataframe tbody tr th:only-of-type {\n",
       "        vertical-align: middle;\n",
       "    }\n",
       "\n",
       "    .dataframe tbody tr th {\n",
       "        vertical-align: top;\n",
       "    }\n",
       "\n",
       "    .dataframe thead th {\n",
       "        text-align: right;\n",
       "    }\n",
       "</style>\n",
       "<table border=\"1\" class=\"dataframe\">\n",
       "  <thead>\n",
       "    <tr style=\"text-align: right;\">\n",
       "      <th></th>\n",
       "      <th>title</th>\n",
       "      <th>text</th>\n",
       "      <th>subject</th>\n",
       "      <th>date</th>\n",
       "    </tr>\n",
       "  </thead>\n",
       "  <tbody>\n",
       "    <tr>\n",
       "      <th>0</th>\n",
       "      <td>Donald Trump Sends Out Embarrassing New Year’...</td>\n",
       "      <td>Donald Trump just couldn t wish all Americans ...</td>\n",
       "      <td>News</td>\n",
       "      <td>December 31, 2017</td>\n",
       "    </tr>\n",
       "    <tr>\n",
       "      <th>1</th>\n",
       "      <td>Drunk Bragging Trump Staffer Started Russian ...</td>\n",
       "      <td>House Intelligence Committee Chairman Devin Nu...</td>\n",
       "      <td>News</td>\n",
       "      <td>December 31, 2017</td>\n",
       "    </tr>\n",
       "    <tr>\n",
       "      <th>2</th>\n",
       "      <td>Sheriff David Clarke Becomes An Internet Joke...</td>\n",
       "      <td>On Friday, it was revealed that former Milwauk...</td>\n",
       "      <td>News</td>\n",
       "      <td>December 30, 2017</td>\n",
       "    </tr>\n",
       "    <tr>\n",
       "      <th>3</th>\n",
       "      <td>Trump Is So Obsessed He Even Has Obama’s Name...</td>\n",
       "      <td>On Christmas day, Donald Trump announced that ...</td>\n",
       "      <td>News</td>\n",
       "      <td>December 29, 2017</td>\n",
       "    </tr>\n",
       "    <tr>\n",
       "      <th>4</th>\n",
       "      <td>Pope Francis Just Called Out Donald Trump Dur...</td>\n",
       "      <td>Pope Francis used his annual Christmas Day mes...</td>\n",
       "      <td>News</td>\n",
       "      <td>December 25, 2017</td>\n",
       "    </tr>\n",
       "  </tbody>\n",
       "</table>\n",
       "</div>"
      ],
      "text/plain": [
       "                                               title  \\\n",
       "0   Donald Trump Sends Out Embarrassing New Year’...   \n",
       "1   Drunk Bragging Trump Staffer Started Russian ...   \n",
       "2   Sheriff David Clarke Becomes An Internet Joke...   \n",
       "3   Trump Is So Obsessed He Even Has Obama’s Name...   \n",
       "4   Pope Francis Just Called Out Donald Trump Dur...   \n",
       "\n",
       "                                                text subject  \\\n",
       "0  Donald Trump just couldn t wish all Americans ...    News   \n",
       "1  House Intelligence Committee Chairman Devin Nu...    News   \n",
       "2  On Friday, it was revealed that former Milwauk...    News   \n",
       "3  On Christmas day, Donald Trump announced that ...    News   \n",
       "4  Pope Francis used his annual Christmas Day mes...    News   \n",
       "\n",
       "                date  \n",
       "0  December 31, 2017  \n",
       "1  December 31, 2017  \n",
       "2  December 30, 2017  \n",
       "3  December 29, 2017  \n",
       "4  December 25, 2017  "
      ]
     },
     "execution_count": 5,
     "metadata": {},
     "output_type": "execute_result"
    }
   ],
   "source": [
    "fake.head()"
   ]
  },
  {
   "cell_type": "code",
   "execution_count": 6,
   "id": "de4add15-33dc-4fa7-8979-e58c42f6bfc3",
   "metadata": {},
   "outputs": [
    {
     "data": {
      "text/plain": [
       "Index(['title', 'text', 'subject', 'date'], dtype='object')"
      ]
     },
     "execution_count": 6,
     "metadata": {},
     "output_type": "execute_result"
    }
   ],
   "source": [
    "fake.columns"
   ]
  },
  {
   "cell_type": "code",
   "execution_count": 7,
   "id": "0b3e3376-b168-45fa-886a-24db4cce9d9e",
   "metadata": {},
   "outputs": [
    {
     "data": {
      "text/plain": [
       "(23481, 4)"
      ]
     },
     "execution_count": 7,
     "metadata": {},
     "output_type": "execute_result"
    }
   ],
   "source": [
    "fake.shape"
   ]
  },
  {
   "cell_type": "code",
   "execution_count": 8,
   "id": "d7834d65-f59a-4867-9f7a-1345ddaf0920",
   "metadata": {},
   "outputs": [
    {
     "data": {
      "text/plain": [
       "News               9050\n",
       "politics           6841\n",
       "left-news          4459\n",
       "Government News    1570\n",
       "US_News             783\n",
       "Middle-east         778\n",
       "Name: subject, dtype: int64"
      ]
     },
     "execution_count": 8,
     "metadata": {},
     "output_type": "execute_result"
    }
   ],
   "source": [
    "fake['subject'].value_counts()"
   ]
  },
  {
   "cell_type": "code",
   "execution_count": 9,
   "id": "f7aa7d18-82b0-4680-8c07-661f18123a5d",
   "metadata": {},
   "outputs": [
    {
     "data": {
      "text/plain": [
       "<AxesSubplot:xlabel='subject', ylabel='count'>"
      ]
     },
     "execution_count": 9,
     "metadata": {},
     "output_type": "execute_result"
    },
    {
     "data": {
      "image/png": "[encoded data removed]",
      "text/plain": [
       "<Figure size 720x432 with 1 Axes>"
      ]
     },
     "metadata": {
      "needs_background": "light"
     },
     "output_type": "display_data"
    }
   ],
   "source": [
    "plt.figure(figsize = (10,6))\n",
    "sns.countplot(x = 'subject', data = fake)"
   ]
  },
  {
   "cell_type": "code",
   "execution_count": 10,
   "id": "a27bc3a8-800f-4bda-be07-cd294b491a80",
   "metadata": {},
   "outputs": [
    {
     "data": {
      "text/html": [
       "<div>\n",
       "<style scoped>\n",
       "    .dataframe tbody tr th:only-of-type {\n",
       "        vertical-align: middle;\n",
       "    }\n",
       "\n",
       "    .dataframe tbody tr th {\n",
       "        vertical-align: top;\n",
       "    }\n",
       "\n",
       "    .dataframe thead th {\n",
       "        text-align: right;\n",
       "    }\n",
       "</style>\n",
       "<table border=\"1\" class=\"dataframe\">\n",
       "  <thead>\n",
       "    <tr style=\"text-align: right;\">\n",
       "      <th></th>\n",
       "      <th>title</th>\n",
       "      <th>text</th>\n",
       "      <th>subject</th>\n",
       "      <th>date</th>\n",
       "    </tr>\n",
       "  </thead>\n",
       "  <tbody>\n",
       "    <tr>\n",
       "      <th>0</th>\n",
       "      <td>As U.S. budget fight looms, Republicans flip t...</td>\n",
       "      <td>WASHINGTON (Reuters) - The head of a conservat...</td>\n",
       "      <td>politicsNews</td>\n",
       "      <td>31-Dec-17</td>\n",
       "    </tr>\n",
       "    <tr>\n",
       "      <th>1</th>\n",
       "      <td>U.S. military to accept transgender recruits o...</td>\n",
       "      <td>WASHINGTON (Reuters) - Transgender people will...</td>\n",
       "      <td>politicsNews</td>\n",
       "      <td>29-Dec-17</td>\n",
       "    </tr>\n",
       "    <tr>\n",
       "      <th>2</th>\n",
       "      <td>Senior U.S. Republican senator: 'Let Mr. Muell...</td>\n",
       "      <td>WASHINGTON (Reuters) - The special counsel inv...</td>\n",
       "      <td>politicsNews</td>\n",
       "      <td>31-Dec-17</td>\n",
       "    </tr>\n",
       "    <tr>\n",
       "      <th>3</th>\n",
       "      <td>FBI Russia probe helped by Australian diplomat...</td>\n",
       "      <td>WASHINGTON (Reuters) - Trump campaign adviser ...</td>\n",
       "      <td>politicsNews</td>\n",
       "      <td>30-Dec-17</td>\n",
       "    </tr>\n",
       "    <tr>\n",
       "      <th>4</th>\n",
       "      <td>Trump wants Postal Service to charge 'much mor...</td>\n",
       "      <td>SEATTLE/WASHINGTON (Reuters) - President Donal...</td>\n",
       "      <td>politicsNews</td>\n",
       "      <td>29-Dec-17</td>\n",
       "    </tr>\n",
       "  </tbody>\n",
       "</table>\n",
       "</div>"
      ],
      "text/plain": [
       "                                               title  \\\n",
       "0  As U.S. budget fight looms, Republicans flip t...   \n",
       "1  U.S. military to accept transgender recruits o...   \n",
       "2  Senior U.S. Republican senator: 'Let Mr. Muell...   \n",
       "3  FBI Russia probe helped by Australian diplomat...   \n",
       "4  Trump wants Postal Service to charge 'much mor...   \n",
       "\n",
       "                                                text       subject       date  \n",
       "0  WASHINGTON (Reuters) - The head of a conservat...  politicsNews  31-Dec-17  \n",
       "1  WASHINGTON (Reuters) - Transgender people will...  politicsNews  29-Dec-17  \n",
       "2  WASHINGTON (Reuters) - The special counsel inv...  politicsNews  31-Dec-17  \n",
       "3  WASHINGTON (Reuters) - Trump campaign adviser ...  politicsNews  30-Dec-17  \n",
       "4  SEATTLE/WASHINGTON (Reuters) - President Donal...  politicsNews  29-Dec-17  "
      ]
     },
     "execution_count": 10,
     "metadata": {},
     "output_type": "execute_result"
    }
   ],
   "source": [
    "true.head()"
   ]
  },
  {
   "cell_type": "code",
   "execution_count": 11,
   "id": "f9264ce2-3cf7-4bcb-9ba0-33c86513db98",
   "metadata": {},
   "outputs": [
    {
     "data": {
      "text/plain": [
       "Index(['title', 'text', 'subject', 'date'], dtype='object')"
      ]
     },
     "execution_count": 11,
     "metadata": {},
     "output_type": "execute_result"
    }
   ],
   "source": [
    "true.columns"
   ]
  },
  {
   "cell_type": "code",
   "execution_count": 12,
   "id": "a3eb8090-a31a-43fd-802f-1e7dd994907e",
   "metadata": {},
   "outputs": [
    {
     "data": {
      "text/plain": [
       "(21416, 4)"
      ]
     },
     "execution_count": 12,
     "metadata": {},
     "output_type": "execute_result"
    }
   ],
   "source": [
    "true.shape"
   ]
  },
  {
   "cell_type": "code",
   "execution_count": 13,
   "id": "46993ae0-a08e-4190-b8c5-32af84e31972",
   "metadata": {},
   "outputs": [
    {
     "data": {
      "text/plain": [
       "politicsNews    11271\n",
       "worldnews       10145\n",
       "Name: subject, dtype: int64"
      ]
     },
     "execution_count": 13,
     "metadata": {},
     "output_type": "execute_result"
    }
   ],
   "source": [
    "true['subject'].value_counts()"
   ]
  },
  {
   "cell_type": "code",
   "execution_count": 14,
   "id": "46d44bf6-5c11-43bd-8730-861d728e4772",
   "metadata": {},
   "outputs": [
    {
     "data": {
      "text/plain": [
       "<AxesSubplot:xlabel='subject', ylabel='count'>"
      ]
     },
     "execution_count": 14,
     "metadata": {},
     "output_type": "execute_result"
    },
    {
     "data": {
      "image/png": "[encoded data removed]",
      "text/plain": [
       "<Figure size 720x432 with 1 Axes>"
      ]
     },
     "metadata": {
      "needs_background": "light"
     },
     "output_type": "display_data"
    }
   ],
   "source": [
    "plt.figure(figsize = (10,6))\n",
    "sns.countplot(x = 'subject', data = true)"
   ]
  },
  {
   "cell_type": "markdown",
   "id": "ed0f8ee5-24f4-478d-9619-8bf587714982",
   "metadata": {},
   "source": [
    "## Data Preprocessing"
   ]
  },
  {
   "cell_type": "markdown",
   "id": "637f8b95-904f-438d-b05b-749dcadba98f",
   "metadata": {},
   "source": [
    "Find news stories with no text"
   ]
  },
  {
   "cell_type": "code",
   "execution_count": 15,
   "id": "5b86bcaa-eeab-4f10-a7f1-0abbad74c313",
   "metadata": {},
   "outputs": [],
   "source": [
    "text = ' '.join(fake['text'].tolist())"
   ]
  },
  {
   "cell_type": "code",
   "execution_count": 16,
   "id": "c4353ce2-e32a-44fe-bab6-0aea679fd876",
   "metadata": {},
   "outputs": [],
   "source": [
    "empty_fake_index = [index for index, text in enumerate(fake.text.tolist()) if str(text).strip()==\"\"]"
   ]
  },
  {
   "cell_type": "code",
   "execution_count": 17,
   "id": "c56aa0bd-c2af-4b39-b5b6-b00553c9691e",
   "metadata": {},
   "outputs": [
    {
     "data": {
      "text/html": [
       "<div>\n",
       "<style scoped>\n",
       "    .dataframe tbody tr th:only-of-type {\n",
       "        vertical-align: middle;\n",
       "    }\n",
       "\n",
       "    .dataframe tbody tr th {\n",
       "        vertical-align: top;\n",
       "    }\n",
       "\n",
       "    .dataframe thead th {\n",
       "        text-align: right;\n",
       "    }\n",
       "</style>\n",
       "<table border=\"1\" class=\"dataframe\">\n",
       "  <thead>\n",
       "    <tr style=\"text-align: right;\">\n",
       "      <th></th>\n",
       "      <th>title</th>\n",
       "      <th>text</th>\n",
       "      <th>subject</th>\n",
       "      <th>date</th>\n",
       "    </tr>\n",
       "  </thead>\n",
       "  <tbody>\n",
       "    <tr>\n",
       "      <th>10923</th>\n",
       "      <td>TAKE OUR POLL: Who Do You Think President Trum...</td>\n",
       "      <td></td>\n",
       "      <td>politics</td>\n",
       "      <td>May 10, 2017</td>\n",
       "    </tr>\n",
       "    <tr>\n",
       "      <th>11041</th>\n",
       "      <td>Joe Scarborough BERATES Mika Brzezinski Over “...</td>\n",
       "      <td></td>\n",
       "      <td>politics</td>\n",
       "      <td>Apr 26, 2017</td>\n",
       "    </tr>\n",
       "    <tr>\n",
       "      <th>11190</th>\n",
       "      <td>WATCH TUCKER CARLSON Scorch Sanctuary City May...</td>\n",
       "      <td></td>\n",
       "      <td>politics</td>\n",
       "      <td>Apr 6, 2017</td>\n",
       "    </tr>\n",
       "    <tr>\n",
       "      <th>11225</th>\n",
       "      <td>MAYOR OF SANCTUARY CITY: Trump Trying To Make ...</td>\n",
       "      <td></td>\n",
       "      <td>politics</td>\n",
       "      <td>Apr 2, 2017</td>\n",
       "    </tr>\n",
       "    <tr>\n",
       "      <th>11236</th>\n",
       "      <td>SHOCKER: Public School Turns Computer Lab Into...</td>\n",
       "      <td></td>\n",
       "      <td>politics</td>\n",
       "      <td>Apr 1, 2017</td>\n",
       "    </tr>\n",
       "    <tr>\n",
       "      <th>...</th>\n",
       "      <td>...</td>\n",
       "      <td>...</td>\n",
       "      <td>...</td>\n",
       "      <td>...</td>\n",
       "    </tr>\n",
       "    <tr>\n",
       "      <th>21816</th>\n",
       "      <td>BALTIMORE BURNS: MARYLAND GOVERNOR BRINGS IN N...</td>\n",
       "      <td></td>\n",
       "      <td>left-news</td>\n",
       "      <td>Apr 27, 2015</td>\n",
       "    </tr>\n",
       "    <tr>\n",
       "      <th>21826</th>\n",
       "      <td>FULL VIDEO: THE BLOCKBUSTER INVESTIGATION INTO...</td>\n",
       "      <td></td>\n",
       "      <td>left-news</td>\n",
       "      <td>Apr 25, 2015</td>\n",
       "    </tr>\n",
       "    <tr>\n",
       "      <th>21827</th>\n",
       "      <td>(VIDEO) HILLARY CLINTON: RELIGIOUS BELIEFS MUS...</td>\n",
       "      <td></td>\n",
       "      <td>left-news</td>\n",
       "      <td>Apr 25, 2015</td>\n",
       "    </tr>\n",
       "    <tr>\n",
       "      <th>21857</th>\n",
       "      <td>(VIDEO)ICE PROTECTING OBAMA: WON’T RELEASE NAM...</td>\n",
       "      <td></td>\n",
       "      <td>left-news</td>\n",
       "      <td>Apr 14, 2015</td>\n",
       "    </tr>\n",
       "    <tr>\n",
       "      <th>21873</th>\n",
       "      <td>(VIDEO) HYSTERICAL SNL TAKE ON HILLARY’S ANNOU...</td>\n",
       "      <td></td>\n",
       "      <td>left-news</td>\n",
       "      <td>Apr 12, 2015</td>\n",
       "    </tr>\n",
       "  </tbody>\n",
       "</table>\n",
       "<p>630 rows × 4 columns</p>\n",
       "</div>"
      ],
      "text/plain": [
       "                                                   title text    subject  \\\n",
       "10923  TAKE OUR POLL: Who Do You Think President Trum...        politics   \n",
       "11041  Joe Scarborough BERATES Mika Brzezinski Over “...        politics   \n",
       "11190  WATCH TUCKER CARLSON Scorch Sanctuary City May...        politics   \n",
       "11225  MAYOR OF SANCTUARY CITY: Trump Trying To Make ...        politics   \n",
       "11236  SHOCKER: Public School Turns Computer Lab Into...        politics   \n",
       "...                                                  ...  ...        ...   \n",
       "21816  BALTIMORE BURNS: MARYLAND GOVERNOR BRINGS IN N...       left-news   \n",
       "21826  FULL VIDEO: THE BLOCKBUSTER INVESTIGATION INTO...       left-news   \n",
       "21827  (VIDEO) HILLARY CLINTON: RELIGIOUS BELIEFS MUS...       left-news   \n",
       "21857  (VIDEO)ICE PROTECTING OBAMA: WON’T RELEASE NAM...       left-news   \n",
       "21873  (VIDEO) HYSTERICAL SNL TAKE ON HILLARY’S ANNOU...       left-news   \n",
       "\n",
       "               date  \n",
       "10923  May 10, 2017  \n",
       "11041  Apr 26, 2017  \n",
       "11190   Apr 6, 2017  \n",
       "11225   Apr 2, 2017  \n",
       "11236   Apr 1, 2017  \n",
       "...             ...  \n",
       "21816  Apr 27, 2015  \n",
       "21826  Apr 25, 2015  \n",
       "21827  Apr 25, 2015  \n",
       "21857  Apr 14, 2015  \n",
       "21873  Apr 12, 2015  \n",
       "\n",
       "[630 rows x 4 columns]"
      ]
     },
     "execution_count": 17,
     "metadata": {},
     "output_type": "execute_result"
    }
   ],
   "source": [
    "fake.iloc[empty_fake_index]"
   ]
  },
  {
   "cell_type": "markdown",
   "id": "c846afc8-5a1d-4a6e-b9d9-a19fcf077d7d",
   "metadata": {},
   "source": [
    "Combine title and text into one column"
   ]
  },
  {
   "cell_type": "code",
   "execution_count": 18,
   "id": "8e9561db-22a8-4017-8bba-558149480750",
   "metadata": {},
   "outputs": [],
   "source": [
    "true['text'] = true['title'] + \" \" + true['text']"
   ]
  },
  {
   "cell_type": "code",
   "execution_count": 19,
   "id": "7b93345c-4743-4e64-8bd8-cf8518a57e14",
   "metadata": {},
   "outputs": [],
   "source": [
    "fake['text'] = fake['title'] + \" \" + fake['text']"
   ]
  },
  {
   "cell_type": "markdown",
   "id": "2f3c685d-e875-48e3-b895-b5e000aefb1d",
   "metadata": {},
   "source": [
    "Set all text as lower case"
   ]
  },
  {
   "cell_type": "code",
   "execution_count": 20,
   "id": "defdae61-47af-4f75-8764-e528223b2f92",
   "metadata": {},
   "outputs": [],
   "source": [
    "true['text'] = true['text'].apply(lambda x: str(x).lower())"
   ]
  },
  {
   "cell_type": "code",
   "execution_count": 21,
   "id": "dc20e81a-d186-49c9-818d-5b0c96d4eab6",
   "metadata": {},
   "outputs": [],
   "source": [
    "fake['text'] = fake['text'].apply(lambda x: str(x).lower())"
   ]
  },
  {
   "cell_type": "markdown",
   "id": "1c8ada60-dee1-49b1-9010-fe808ecc7a3f",
   "metadata": {},
   "source": [
    "set 'True' classifier as 0 and 'Fake' classifier as 1"
   ]
  },
  {
   "cell_type": "code",
   "execution_count": 22,
   "id": "6226aa29-4162-41e9-a2d1-9bd09df9bdbf",
   "metadata": {},
   "outputs": [],
   "source": [
    "true['class'] = 0\n",
    "fake['class'] = 1"
   ]
  },
  {
   "cell_type": "code",
   "execution_count": 23,
   "id": "27de04c5-8cd4-438a-bdc1-1f5682675875",
   "metadata": {},
   "outputs": [
    {
     "data": {
      "text/plain": [
       "Index(['title', 'text', 'subject', 'date', 'class'], dtype='object')"
      ]
     },
     "execution_count": 23,
     "metadata": {},
     "output_type": "execute_result"
    }
   ],
   "source": [
    "true.columns"
   ]
  },
  {
   "cell_type": "code",
   "execution_count": 24,
   "id": "049dc04b-0505-4adc-b600-52a851f349d4",
   "metadata": {},
   "outputs": [
    {
     "data": {
      "text/plain": [
       "Index(['title', 'text', 'subject', 'date', 'class'], dtype='object')"
      ]
     },
     "execution_count": 24,
     "metadata": {},
     "output_type": "execute_result"
    }
   ],
   "source": [
    "fake.columns"
   ]
  },
  {
   "cell_type": "markdown",
   "id": "1fd46134-f040-458f-b004-ad4a0747edca",
   "metadata": {},
   "source": [
    "Remove all columns except text and class"
   ]
  },
  {
   "cell_type": "code",
   "execution_count": 25,
   "id": "fc4f030e-0a0f-4f95-b0e3-59a52e6c6b48",
   "metadata": {},
   "outputs": [],
   "source": [
    "true = true[['text', 'class']]"
   ]
  },
  {
   "cell_type": "code",
   "execution_count": 26,
   "id": "3dc96a7c-f4a2-4e4b-a0db-d1972f77084c",
   "metadata": {},
   "outputs": [],
   "source": [
    "fake = fake[['text', 'class']]"
   ]
  },
  {
   "cell_type": "code",
   "execution_count": 27,
   "id": "b786b15e-fc37-41c8-9eac-3e24d71da57b",
   "metadata": {},
   "outputs": [
    {
     "data": {
      "text/plain": [
       "(21416, 2)"
      ]
     },
     "execution_count": 27,
     "metadata": {},
     "output_type": "execute_result"
    }
   ],
   "source": [
    "true.shape"
   ]
  },
  {
   "cell_type": "code",
   "execution_count": 28,
   "id": "e468aaab-ad1c-429c-8d7b-8d5ba77220f1",
   "metadata": {},
   "outputs": [
    {
     "data": {
      "text/plain": [
       "(23481, 2)"
      ]
     },
     "execution_count": 28,
     "metadata": {},
     "output_type": "execute_result"
    }
   ],
   "source": [
    "fake.shape"
   ]
  },
  {
   "cell_type": "markdown",
   "id": "593e9b13-4147-4174-bcad-eedc532a3c61",
   "metadata": {},
   "source": [
    "combine fake and true datasets into one dataset"
   ]
  },
  {
   "cell_type": "code",
   "execution_count": 29,
   "id": "bad35f41-9f15-4b15-8c8d-82ced92ee759",
   "metadata": {},
   "outputs": [],
   "source": [
    "data = true.append(fake, ignore_index = True)"
   ]
  },
  {
   "cell_type": "code",
   "execution_count": 30,
   "id": "583fc44e-374b-47bb-ae16-b4be0ad9bb05",
   "metadata": {},
   "outputs": [
    {
     "data": {
      "text/html": [
       "<div>\n",
       "<style scoped>\n",
       "    .dataframe tbody tr th:only-of-type {\n",
       "        vertical-align: middle;\n",
       "    }\n",
       "\n",
       "    .dataframe tbody tr th {\n",
       "        vertical-align: top;\n",
       "    }\n",
       "\n",
       "    .dataframe thead th {\n",
       "        text-align: right;\n",
       "    }\n",
       "</style>\n",
       "<table border=\"1\" class=\"dataframe\">\n",
       "  <thead>\n",
       "    <tr style=\"text-align: right;\">\n",
       "      <th></th>\n",
       "      <th>text</th>\n",
       "      <th>class</th>\n",
       "    </tr>\n",
       "  </thead>\n",
       "  <tbody>\n",
       "    <tr>\n",
       "      <th>27182</th>\n",
       "      <td>paul ryan responds to dem’s sit-in on gun con...</td>\n",
       "      <td>1</td>\n",
       "    </tr>\n",
       "    <tr>\n",
       "      <th>44477</th>\n",
       "      <td>ep #9: patrick henningsen live – ‘our western ...</td>\n",
       "      <td>1</td>\n",
       "    </tr>\n",
       "    <tr>\n",
       "      <th>15258</th>\n",
       "      <td>turkey detains more than 160 islamic state sus...</td>\n",
       "      <td>0</td>\n",
       "    </tr>\n",
       "    <tr>\n",
       "      <th>36945</th>\n",
       "      <td>obama’s revealing letter to brother tells why ...</td>\n",
       "      <td>1</td>\n",
       "    </tr>\n",
       "    <tr>\n",
       "      <th>20979</th>\n",
       "      <td>in athens, macron to urge renewal of eu democr...</td>\n",
       "      <td>0</td>\n",
       "    </tr>\n",
       "  </tbody>\n",
       "</table>\n",
       "</div>"
      ],
      "text/plain": [
       "                                                    text  class\n",
       "27182   paul ryan responds to dem’s sit-in on gun con...      1\n",
       "44477  ep #9: patrick henningsen live – ‘our western ...      1\n",
       "15258  turkey detains more than 160 islamic state sus...      0\n",
       "36945  obama’s revealing letter to brother tells why ...      1\n",
       "20979  in athens, macron to urge renewal of eu democr...      0"
      ]
     },
     "execution_count": 30,
     "metadata": {},
     "output_type": "execute_result"
    }
   ],
   "source": [
    "data.sample(5)"
   ]
  },
  {
   "cell_type": "markdown",
   "id": "d38875a0-5c0d-49ca-a71d-db1e0f34624e",
   "metadata": {},
   "source": [
    "remove special characters from text"
   ]
  },
  {
   "cell_type": "code",
   "execution_count": 31,
   "id": "ef5d00e0-4321-4187-ab27-1d4654bd6ba6",
   "metadata": {},
   "outputs": [],
   "source": [
    "data['text'] = data['text'].apply(lambda x: ps.remove_special_chars(x))"
   ]
  },
  {
   "cell_type": "code",
   "execution_count": 32,
   "id": "a40540c4-068c-4b90-9f4e-e30598d29a21",
   "metadata": {},
   "outputs": [
    {
     "data": {
      "text/html": [
       "<div>\n",
       "<style scoped>\n",
       "    .dataframe tbody tr th:only-of-type {\n",
       "        vertical-align: middle;\n",
       "    }\n",
       "\n",
       "    .dataframe tbody tr th {\n",
       "        vertical-align: top;\n",
       "    }\n",
       "\n",
       "    .dataframe thead th {\n",
       "        text-align: right;\n",
       "    }\n",
       "</style>\n",
       "<table border=\"1\" class=\"dataframe\">\n",
       "  <thead>\n",
       "    <tr style=\"text-align: right;\">\n",
       "      <th></th>\n",
       "      <th>text</th>\n",
       "      <th>class</th>\n",
       "    </tr>\n",
       "  </thead>\n",
       "  <tbody>\n",
       "    <tr>\n",
       "      <th>0</th>\n",
       "      <td>as us budget fight looms republicans flip thei...</td>\n",
       "      <td>0</td>\n",
       "    </tr>\n",
       "    <tr>\n",
       "      <th>1</th>\n",
       "      <td>us military to accept transgender recruits on ...</td>\n",
       "      <td>0</td>\n",
       "    </tr>\n",
       "    <tr>\n",
       "      <th>2</th>\n",
       "      <td>senior us republican senator let mr mueller do...</td>\n",
       "      <td>0</td>\n",
       "    </tr>\n",
       "    <tr>\n",
       "      <th>3</th>\n",
       "      <td>fbi russia probe helped by australian diplomat...</td>\n",
       "      <td>0</td>\n",
       "    </tr>\n",
       "    <tr>\n",
       "      <th>4</th>\n",
       "      <td>trump wants postal service to charge much more...</td>\n",
       "      <td>0</td>\n",
       "    </tr>\n",
       "  </tbody>\n",
       "</table>\n",
       "</div>"
      ],
      "text/plain": [
       "                                                text  class\n",
       "0  as us budget fight looms republicans flip thei...      0\n",
       "1  us military to accept transgender recruits on ...      0\n",
       "2  senior us republican senator let mr mueller do...      0\n",
       "3  fbi russia probe helped by australian diplomat...      0\n",
       "4  trump wants postal service to charge much more...      0"
      ]
     },
     "execution_count": 32,
     "metadata": {},
     "output_type": "execute_result"
    }
   ],
   "source": [
    "data.head()"
   ]
  },
  {
   "cell_type": "markdown",
   "id": "1193a729-13a3-4552-b154-8aa50258fd0e",
   "metadata": {},
   "source": [
    "Separate the dataset where z holds all text that will be converted into vectors and y holds the truth values of every news story"
   ]
  },
  {
   "cell_type": "code",
   "execution_count": 33,
   "id": "9bf12684-a5ff-4cf4-902d-78d90e83d3dc",
   "metadata": {},
   "outputs": [],
   "source": [
    "z = [d.split() for d in data['text'].tolist()]"
   ]
  },
  {
   "cell_type": "code",
   "execution_count": 34,
   "id": "b2000816-9638-423c-82c6-c893f3a437c4",
   "metadata": {},
   "outputs": [],
   "source": [
    "y = data['class'].values"
   ]
  },
  {
   "cell_type": "code",
   "execution_count": 35,
   "id": "ba5a3712-c32d-440f-8bfe-4e8648e99165",
   "metadata": {},
   "outputs": [
    {
     "data": {
      "text/plain": [
       "list"
      ]
     },
     "execution_count": 35,
     "metadata": {},
     "output_type": "execute_result"
    }
   ],
   "source": [
    "type(z)"
   ]
  },
  {
   "cell_type": "code",
   "execution_count": 36,
   "id": "c430da2e-1644-4208-a495-aa82852f8048",
   "metadata": {},
   "outputs": [
    {
     "name": "stdout",
     "output_type": "stream",
     "text": [
      "['as', 'us', 'budget', 'fight', 'looms', 'republicans', 'flip', 'their', 'fiscal', 'script', 'washington', 'reuters', 'the', 'head', 'of', 'a', 'conservative', 'republican', 'faction', 'in', 'the', 'us', 'congress', 'who', 'voted', 'this', 'month', 'for', 'a', 'huge', 'expansion', 'of', 'the', 'national', 'debt', 'to', 'pay', 'for', 'tax', 'cuts', 'called', 'himself', 'a', 'fiscal', 'conservative', 'on', 'sunday', 'and', 'urged', 'budget', 'restraint', 'in', '2018', 'in', 'keeping', 'with', 'a', 'sharp', 'pivot', 'under', 'way', 'among', 'republicans', 'us', 'representative', 'mark', 'meadows', 'speaking', 'on', 'cbs', 'face', 'the', 'nation', 'drew', 'a', 'hard', 'line', 'on', 'federal', 'spending', 'which', 'lawmakers', 'are', 'bracing', 'to', 'do', 'battle', 'over', 'in', 'january', 'when', 'they', 'return', 'from', 'the', 'holidays', 'on', 'wednesday', 'lawmakers', 'will', 'begin', 'trying', 'to', 'pass', 'a', 'federal', 'budget', 'in', 'a', 'fight', 'likely', 'to', 'be', 'linked', 'to', 'other', 'issues', 'such', 'as', 'immigration', 'policy', 'even', 'as', 'the', 'november', 'congressional', 'election', 'campaigns', 'approach', 'in', 'which', 'republicans', 'will', 'seek', 'to', 'keep', 'control', 'of', 'congress', 'president', 'donald', 'trump', 'and', 'his', 'republicans', 'want', 'a', 'big', 'budget', 'increase', 'in', 'military', 'spending', 'while', 'democrats', 'also', 'want', 'proportional', 'increases', 'for', 'nondefense', 'discretionary', 'spending', 'on', 'programs', 'that', 'support', 'education', 'scientific', 'research', 'infrastructure', 'public', 'health', 'and', 'environmental', 'protection', 'the', 'trump', 'administration', 'has', 'already', 'been', 'willing', 'to', 'say', 'were', 'going', 'to', 'increase', 'nondefense', 'discretionary', 'spending', 'by', 'about', '7', 'percent', 'meadows', 'chairman', 'of', 'the', 'small', 'but', 'influential', 'house', 'freedom', 'caucus', 'said', 'on', 'the', 'program', 'now', 'democrats', 'are', 'saying', 'thats', 'not', 'enough', 'we', 'need', 'to', 'give', 'the', 'government', 'a', 'pay', 'raise', 'of', '10', 'to', '11', 'percent', 'for', 'a', 'fiscal', 'conservative', 'i', 'dont', 'see', 'where', 'the', 'rationale', 'is', 'eventually', 'you', 'run', 'out', 'of', 'other', 'peoples', 'money', 'he', 'said', 'meadows', 'was', 'among', 'republicans', 'who', 'voted', 'in', 'late', 'december', 'for', 'their', 'partys', 'debtfinanced', 'tax', 'overhaul', 'which', 'is', 'expected', 'to', 'balloon', 'the', 'federal', 'budget', 'deficit', 'and', 'add', 'about', '15', 'trillion', 'over', '10', 'years', 'to', 'the', '20', 'trillion', 'national', 'debt', 'its', 'interesting', 'to', 'hear', 'mark', 'talk', 'about', 'fiscal', 'responsibility', 'democratic', 'us', 'representative', 'joseph', 'crowley', 'said', 'on', 'cbs', 'crowley', 'said', 'the', 'republican', 'tax', 'bill', 'would', 'require', 'the', 'united', 'states', 'to', 'borrow', '15', 'trillion', 'to', 'be', 'paid', 'off', 'by', 'future', 'generations', 'to', 'finance', 'tax', 'cuts', 'for', 'corporations', 'and', 'the', 'rich', 'this', 'is', 'one', 'of', 'the', 'least', 'fiscally', 'responsible', 'bills', 'weve', 'ever', 'seen', 'passed', 'in', 'the', 'history', 'of', 'the', 'house', 'of', 'representatives', 'i', 'think', 'were', 'going', 'to', 'be', 'paying', 'for', 'this', 'for', 'many', 'many', 'years', 'to', 'come', 'crowley', 'said', 'republicans', 'insist', 'the', 'tax', 'package', 'the', 'biggest', 'us', 'tax', 'overhaul', 'in', 'more', 'than', '30', 'years', 'will', 'boost', 'the', 'economy', 'and', 'job', 'growth', 'house', 'speaker', 'paul', 'ryan', 'who', 'also', 'supported', 'the', 'tax', 'bill', 'recently', 'went', 'further', 'than', 'meadows', 'making', 'clear', 'in', 'a', 'radio', 'interview', 'that', 'welfare', 'or', 'entitlement', 'reform', 'as', 'the', 'party', 'often', 'calls', 'it', 'would', 'be', 'a', 'top', 'republican', 'priority', 'in', '2018', 'in', 'republican', 'parlance', 'entitlement', 'programs', 'mean', 'food', 'stamps', 'housing', 'assistance', 'medicare', 'and', 'medicaid', 'health', 'insurance', 'for', 'the', 'elderly', 'poor', 'and', 'disabled', 'as', 'well', 'as', 'other', 'programs', 'created', 'by', 'washington', 'to', 'assist', 'the', 'needy', 'democrats', 'seized', 'on', 'ryans', 'early', 'december', 'remarks', 'saying', 'they', 'showed', 'republicans', 'would', 'try', 'to', 'pay', 'for', 'their', 'tax', 'overhaul', 'by', 'seeking', 'spending', 'cuts', 'for', 'social', 'programs', 'but', 'the', 'goals', 'of', 'house', 'republicans', 'may', 'have', 'to', 'take', 'a', 'back', 'seat', 'to', 'the', 'senate', 'where', 'the', 'votes', 'of', 'some', 'democrats', 'will', 'be', 'needed', 'to', 'approve', 'a', 'budget', 'and', 'prevent', 'a', 'government', 'shutdown', 'democrats', 'will', 'use', 'their', 'leverage', 'in', 'the', 'senate', 'which', 'republicans', 'narrowly', 'control', 'to', 'defend', 'both', 'discretionary', 'nondefense', 'programs', 'and', 'social', 'spending', 'while', 'tackling', 'the', 'issue', 'of', 'the', 'dreamers', 'people', 'brought', 'illegally', 'to', 'the', 'country', 'as', 'children', 'trump', 'in', 'september', 'put', 'a', 'march', '2018', 'expiration', 'date', 'on', 'the', 'deferred', 'action', 'for', 'childhood', 'arrivals', 'or', 'daca', 'program', 'which', 'protects', 'the', 'young', 'immigrants', 'from', 'deportation', 'and', 'provides', 'them', 'with', 'work', 'permits', 'the', 'president', 'has', 'said', 'in', 'recent', 'twitter', 'messages', 'he', 'wants', 'funding', 'for', 'his', 'proposed', 'mexican', 'border', 'wall', 'and', 'other', 'immigration', 'law', 'changes', 'in', 'exchange', 'for', 'agreeing', 'to', 'help', 'the', 'dreamers', 'representative', 'debbie', 'dingell', 'told', 'cbs', 'she', 'did', 'not', 'favor', 'linking', 'that', 'issue', 'to', 'other', 'policy', 'objectives', 'such', 'as', 'wall', 'funding', 'we', 'need', 'to', 'do', 'daca', 'clean', 'she', 'said', 'on', 'wednesday', 'trump', 'aides', 'will', 'meet', 'with', 'congressional', 'leaders', 'to', 'discuss', 'those', 'issues', 'that', 'will', 'be', 'followed', 'by', 'a', 'weekend', 'of', 'strategy', 'sessions', 'for', 'trump', 'and', 'republican', 'leaders', 'on', 'jan', '6', 'and', '7', 'the', 'white', 'house', 'said', 'trump', 'was', 'also', 'scheduled', 'to', 'meet', 'on', 'sunday', 'with', 'florida', 'republican', 'governor', 'rick', 'scott', 'who', 'wants', 'more', 'emergency', 'aid', 'the', 'house', 'has', 'passed', 'an', '81', 'billion', 'aid', 'package', 'after', 'hurricanes', 'in', 'florida', 'texas', 'and', 'puerto', 'rico', 'and', 'wildfires', 'in', 'california', 'the', 'package', 'far', 'exceeded', 'the', '44', 'billion', 'requested', 'by', 'the', 'trump', 'administration', 'the', 'senate', 'has', 'not', 'yet', 'voted', 'on', 'the', 'aid']\n"
     ]
    }
   ],
   "source": [
    "print(z[0])"
   ]
  },
  {
   "cell_type": "markdown",
   "id": "a21889b6-14e9-40f4-b8d7-661e9c6fa1b3",
   "metadata": {
    "tags": []
   },
   "source": [
    "## Word2Vec Model"
   ]
  },
  {
   "cell_type": "markdown",
   "id": "a336fc1a-9dff-4927-a9ef-c487473fbb80",
   "metadata": {},
   "source": [
    "Define word2vec model with the input being the list of text of news stories, the vector size, window which determines how many words are taken in a batch and a min count of 1 to ensure that a vector is generated for every word"
   ]
  },
  {
   "cell_type": "code",
   "execution_count": 37,
   "id": "101963e2-a4af-485e-a914-5311c34aa93b",
   "metadata": {},
   "outputs": [],
   "source": [
    "dim = 250\n",
    "w2v = gensim.models.Word2Vec(sentences=z, vector_size=dim, window=10, min_count=1)"
   ]
  },
  {
   "cell_type": "markdown",
   "id": "02ae6b18-c4f0-42bd-986f-e484a742847d",
   "metadata": {},
   "source": [
    "Determine how many vectors were created"
   ]
  },
  {
   "cell_type": "code",
   "execution_count": 38,
   "id": "8dad359d-9569-4498-82b2-6b005d8f2289",
   "metadata": {},
   "outputs": [
    {
     "data": {
      "text/plain": [
       "232476"
      ]
     },
     "execution_count": 38,
     "metadata": {},
     "output_type": "execute_result"
    }
   ],
   "source": [
    "len(w2v.wv.index_to_key)"
   ]
  },
  {
   "cell_type": "code",
   "execution_count": 39,
   "id": "6bed6acb-d399-4c0f-9599-092575e49d10",
   "metadata": {},
   "outputs": [
    {
     "data": {
      "text/plain": [
       "207"
      ]
     },
     "execution_count": 39,
     "metadata": {},
     "output_type": "execute_result"
    }
   ],
   "source": [
    "w2v.wv.get_index('china')"
   ]
  },
  {
   "cell_type": "code",
   "execution_count": 40,
   "id": "fbecea1f-bc84-4d26-830d-fa784c6b8276",
   "metadata": {},
   "outputs": [
    {
     "data": {
      "text/plain": [
       "array([-0.2132738 ,  1.2396822 ,  0.04667985,  0.72127384,  2.4992862 ,\n",
       "       -2.7478206 ,  3.6387134 ,  0.45564863,  0.7276931 , -4.3494105 ,\n",
       "       -2.5514033 , -0.07996439,  0.73364097,  3.4170797 ,  1.6749748 ,\n",
       "        2.239609  , -1.7002984 , -0.4438794 ,  5.078015  , -0.25158134,\n",
       "       -4.2060175 ,  1.1764579 , -0.11358631,  1.1996934 ,  3.7361708 ,\n",
       "        3.492216  , -0.95242614, -3.1239622 ,  1.6407095 , -1.284165  ,\n",
       "        1.1105186 , -2.5253286 ,  2.4418273 , -1.0234172 , -0.8594756 ,\n",
       "       -3.13768   , -0.8860933 , -2.7883437 ,  0.16644238,  0.5616882 ,\n",
       "       -0.23893039,  1.2543898 ,  0.37293598, -2.2375662 ,  0.910707  ,\n",
       "       -1.2863638 , -1.3782985 ,  1.093614  ,  1.7124447 , -0.42631707,\n",
       "       -1.889313  , -3.8341389 ,  3.2969365 ,  1.0654701 ,  2.5361915 ,\n",
       "        0.95320034, -2.828686  ,  6.176611  , -0.17857683,  0.92683613,\n",
       "        1.5857867 ,  0.12173925, -0.19467936,  1.7974782 ,  0.23417725,\n",
       "        2.8461144 ,  0.4268564 , -0.5725131 ,  0.46415207, -0.74995476,\n",
       "       -1.4517702 ,  0.6356862 , -2.592493  , -1.2548019 , -2.402041  ,\n",
       "        0.5733837 ,  2.3174994 , -1.7938737 ,  0.3241397 , -2.2652068 ,\n",
       "        2.0207956 ,  1.1434195 , -1.0700042 , -0.29439175, -0.88395643,\n",
       "        1.8103037 ,  2.5593863 , -1.3325002 ,  0.14726466, -0.641827  ,\n",
       "        0.2500608 , -0.07151422, -1.1875738 , -4.098745  , -0.5848801 ,\n",
       "       -0.6474805 ,  0.40093246,  2.5162246 , -0.9437092 ,  0.40609607,\n",
       "       -1.6358624 , -0.3940921 , -1.2770668 , -2.9017496 , -0.9177178 ,\n",
       "        3.8536577 , -0.02693782,  3.4172513 ,  0.07235489,  1.7440726 ,\n",
       "       -4.044229  ,  0.04060469,  0.06128062, -1.13379   , -3.058505  ,\n",
       "       -1.5574465 , -0.7656712 ,  0.15961283,  1.6411641 ,  0.39780968,\n",
       "       -0.31081486, -0.20948043,  0.2639767 ,  0.8645065 ,  1.022546  ,\n",
       "       -1.0094013 , -0.54130137,  0.86532533,  1.5224547 , -0.00942669,\n",
       "        0.3279827 , -1.1357129 ,  0.7342263 , -0.24801871,  2.8908985 ,\n",
       "       -0.84658074,  0.14260358,  2.8641331 ,  4.0792465 ,  2.2339535 ,\n",
       "       -0.11451127,  1.329176  ,  2.3282146 , -0.7591957 , -2.2465596 ,\n",
       "        3.299408  , -2.6433425 , -1.1176553 ,  1.2699406 ,  1.4645905 ,\n",
       "       -3.060942  , -1.8283486 ,  0.95388275,  0.97928894, -1.0519062 ,\n",
       "       -0.4476066 ,  1.4525316 ,  2.0615838 ,  0.7660899 ,  1.3196834 ,\n",
       "        2.1170526 ,  1.4430678 , -0.34051228, -0.4199111 ,  0.17472894,\n",
       "       -2.4914992 , -3.121809  ,  2.7147608 ,  0.26841527,  1.3921397 ,\n",
       "        1.8906198 , -0.6220106 , -0.73540795,  1.6756846 ,  0.9721688 ,\n",
       "       -0.921997  ,  4.6418486 ,  0.84699994, -1.0381575 ,  1.4263357 ,\n",
       "       -1.5618225 , -1.484051  , -1.1204093 ,  1.136805  , -2.6870828 ,\n",
       "       -1.9752829 , -0.99454266, -0.5021047 , -1.3893667 ,  2.4357214 ,\n",
       "       -0.61466527,  2.2403724 ,  0.14455591,  0.53596675, -0.12381933,\n",
       "        1.948381  ,  2.7607594 ,  0.20374177,  1.3774158 ,  0.81913906,\n",
       "        1.3716208 ,  1.3525355 , -2.542157  ,  0.6866418 ,  1.1125892 ,\n",
       "        5.0361543 , -0.46005404, -1.8373336 , -1.513432  ,  3.9051006 ,\n",
       "       -3.8150837 , -1.1845803 ,  4.0649705 , -3.705664  ,  0.47778407,\n",
       "        1.0407164 ,  2.7388482 ,  0.6052329 , -0.53691906,  3.0138488 ,\n",
       "        3.4863734 , -0.8573687 , -1.5702965 , -0.84069   , -0.9712687 ,\n",
       "        0.36151338,  1.71933   , -2.755669  ,  2.4798021 , -1.0068563 ,\n",
       "       -1.4332277 ,  0.11750492, -3.1263654 ,  0.17594622, -0.9426251 ,\n",
       "       -2.9410586 ,  2.3827634 , -0.37475178, -1.7804999 , -1.061811  ,\n",
       "       -0.7831906 , -1.2034369 ,  1.7582605 ,  3.4398286 , -1.602543  ,\n",
       "        0.8734805 ,  0.16638108, -1.5128118 ,  2.26475   ,  0.7665547 ],\n",
       "      dtype=float32)"
      ]
     },
     "execution_count": 40,
     "metadata": {},
     "output_type": "execute_result"
    }
   ],
   "source": [
    "w2v.wv['china']"
   ]
  },
  {
   "cell_type": "code",
   "execution_count": 41,
   "id": "6ffa5d7c-7def-4a87-9743-f2f32d576060",
   "metadata": {},
   "outputs": [
    {
     "data": {
      "text/plain": [
       "[('beijing', 0.7634618878364563),\n",
       " ('taiwan', 0.7214811444282532),\n",
       " ('chinas', 0.6907875537872314),\n",
       " ('chinese', 0.6607072353363037),\n",
       " ('xi', 0.6002225875854492),\n",
       " ('pyongyang', 0.5874906182289124),\n",
       " ('india', 0.5771642327308655),\n",
       " ('japan', 0.5652620792388916),\n",
       " ('taipei', 0.5636759400367737),\n",
       " ('beijings', 0.5550145506858826)]"
      ]
     },
     "execution_count": 41,
     "metadata": {},
     "output_type": "execute_result"
    }
   ],
   "source": [
    "w2v.wv.most_similar('china')"
   ]
  },
  {
   "cell_type": "markdown",
   "id": "5ab13aa2-7677-4152-a49e-73a4d241b80c",
   "metadata": {},
   "source": [
    "Define tokenizer and feed text into it"
   ]
  },
  {
   "cell_type": "code",
   "execution_count": 42,
   "id": "fc7beb2d-827d-4318-bb6f-f768904ad0c7",
   "metadata": {},
   "outputs": [],
   "source": [
    "tokenizer = Tokenizer()\n",
    "tokenizer.fit_on_texts(z)"
   ]
  },
  {
   "cell_type": "markdown",
   "id": "f06e5aa6-5667-4ae2-a1eb-524bd43abea7",
   "metadata": {},
   "source": [
    "Convert text into sequences"
   ]
  },
  {
   "cell_type": "code",
   "execution_count": 43,
   "id": "071c73e9-d674-41ef-a751-1da9418b143b",
   "metadata": {},
   "outputs": [],
   "source": [
    "z = tokenizer.texts_to_sequences(z)"
   ]
  },
  {
   "cell_type": "markdown",
   "id": "8b5a9b85-ffd7-4588-9949-01624b1d8807",
   "metadata": {},
   "source": [
    "Determine the total number of words in a news story"
   ]
  },
  {
   "cell_type": "code",
   "execution_count": 44,
   "id": "578218b6-5c87-46bf-a515-0f9fa2e225a8",
   "metadata": {},
   "outputs": [
    {
     "data": {
      "image/png": "[encoded data removed]",
      "text/plain": [
       "<Figure size 432x288 with 1 Axes>"
      ]
     },
     "metadata": {
      "needs_background": "light"
     },
     "output_type": "display_data"
    }
   ],
   "source": [
    "plt.hist([len(x) for x in z], bins = 700)\n",
    "plt.show()"
   ]
  },
  {
   "cell_type": "markdown",
   "id": "95ea124c-dfdb-4a61-9a26-6e9c307a15ed",
   "metadata": {},
   "source": [
    "Find number of news stories that are more than 1000 words"
   ]
  },
  {
   "cell_type": "code",
   "execution_count": 45,
   "id": "2f2e2b37-6f69-4891-8030-a1297e63947b",
   "metadata": {},
   "outputs": [
    {
     "data": {
      "text/plain": [
       "1592"
      ]
     },
     "execution_count": 45,
     "metadata": {},
     "output_type": "execute_result"
    }
   ],
   "source": [
    "nos = np.array([len(x) for x in z])\n",
    "len(nos[nos > 1000])"
   ]
  },
  {
   "cell_type": "markdown",
   "id": "3282260f-c047-47dc-9a51-f149329dde14",
   "metadata": {},
   "source": [
    "Ensure that all news stories have 1000 words. Pad if less than 1000, truncate if more than 1000"
   ]
  },
  {
   "cell_type": "code",
   "execution_count": 46,
   "id": "7a811e0c-8c2d-4ca9-80d7-281e00e2e027",
   "metadata": {},
   "outputs": [],
   "source": [
    "maxlen = 1000\n",
    "z = pad_sequences(z, maxlen = maxlen)"
   ]
  },
  {
   "cell_type": "code",
   "execution_count": 47,
   "id": "37aabc0e-1bf4-4c7f-98b8-6ed5e01244a2",
   "metadata": {},
   "outputs": [
    {
     "data": {
      "text/plain": [
       "1000"
      ]
     },
     "execution_count": 47,
     "metadata": {},
     "output_type": "execute_result"
    }
   ],
   "source": [
    "len(z[101])"
   ]
  },
  {
   "cell_type": "markdown",
   "id": "efeda123-c9e0-4c40-8f17-878f4b79a606",
   "metadata": {},
   "source": [
    "Add 1 to the vocabulary so that if the model finds an unkwown word, it creates a new sequence for those unknown words"
   ]
  },
  {
   "cell_type": "code",
   "execution_count": 48,
   "id": "e9a50d1e-e265-4cc3-976a-529f6af7ec00",
   "metadata": {},
   "outputs": [],
   "source": [
    "vocab_size = len(tokenizer.word_index) + 1"
   ]
  },
  {
   "cell_type": "code",
   "execution_count": 49,
   "id": "673bd281-83c8-4500-996a-f92831ab8ac8",
   "metadata": {},
   "outputs": [],
   "source": [
    "vocab = tokenizer.word_index"
   ]
  },
  {
   "cell_type": "markdown",
   "id": "e074b1e8-e0ef-4d2d-a0a9-37e91b58ad1d",
   "metadata": {},
   "source": [
    "Obtain initial weight of vectors for use in LSTM model"
   ]
  },
  {
   "cell_type": "code",
   "execution_count": 50,
   "id": "1f694853-601c-4478-83fb-52900b143ce0",
   "metadata": {},
   "outputs": [],
   "source": [
    "def get_weight_matrix(model):\n",
    "    weight_matrix = np.zeros((vocab_size, dim))\n",
    "    for word, i in vocab.items():\n",
    "        weight_matrix[i] = model.wv[word]\n",
    "    return weight_matrix"
   ]
  },
  {
   "cell_type": "code",
   "execution_count": 51,
   "id": "4f621248-39f9-4711-8776-858da541d597",
   "metadata": {},
   "outputs": [],
   "source": [
    "embedding_vectors = get_weight_matrix(w2v)"
   ]
  },
  {
   "cell_type": "code",
   "execution_count": 52,
   "id": "c7505514-d4bf-43a1-a3e8-7af8fed2054a",
   "metadata": {},
   "outputs": [
    {
     "data": {
      "text/plain": [
       "(232477, 250)"
      ]
     },
     "execution_count": 52,
     "metadata": {},
     "output_type": "execute_result"
    }
   ],
   "source": [
    "embedding_vectors.shape"
   ]
  },
  {
   "cell_type": "markdown",
   "id": "cf83e8dc-b99f-49cd-bc6e-b0b2b3942bc2",
   "metadata": {},
   "source": [
    "## LSTM Model"
   ]
  },
  {
   "cell_type": "markdown",
   "id": "8dd77dc6-8f18-43fc-8ea3-5c37e295cdc6",
   "metadata": {},
   "source": [
    "Define model"
   ]
  },
  {
   "cell_type": "code",
   "execution_count": 53,
   "id": "b6fd584c-2940-493b-90fc-e9fea2cf01bc",
   "metadata": {},
   "outputs": [],
   "source": [
    "model = Sequential()\n",
    "model.add(Embedding(vocab_size, output_dim = dim, weights = [embedding_vectors], input_length = maxlen, trainable = True))\n",
    "model.add(LSTM(units = 128))\n",
    "model.add(Dense(1, activation = 'sigmoid'))\n",
    "model.compile(optimizer = 'adam', loss = 'binary_crossentropy', metrics = ['acc'])"
   ]
  },
  {
   "cell_type": "code",
   "execution_count": 54,
   "id": "2511be3a-1dd5-4518-8c12-46ba1b553f98",
   "metadata": {},
   "outputs": [
    {
     "name": "stdout",
     "output_type": "stream",
     "text": [
      "Model: \"sequential\"\n",
      "_________________________________________________________________\n",
      " Layer (type)                Output Shape              Param #   \n",
      "=================================================================\n",
      " embedding (Embedding)       (None, 1000, 250)         58119250  \n",
      "                                                                 \n",
      " lstm (LSTM)                 (None, 128)               194048    \n",
      "                                                                 \n",
      " dense (Dense)               (None, 1)                 129       \n",
      "                                                                 \n",
      "=================================================================\n",
      "Total params: 58,313,427\n",
      "Trainable params: 58,313,427\n",
      "Non-trainable params: 0\n",
      "_________________________________________________________________\n"
     ]
    }
   ],
   "source": [
    "model.summary()"
   ]
  },
  {
   "cell_type": "markdown",
   "id": "3dccc1ae-c276-4776-ade2-334dd65183e9",
   "metadata": {},
   "source": [
    "Create train:test split of 75:25"
   ]
  },
  {
   "cell_type": "code",
   "execution_count": 55,
   "id": "e75117de-b78e-4a3f-997f-1edffc97e5d6",
   "metadata": {},
   "outputs": [],
   "source": [
    "z_train, z_test, y_train, y_test = train_test_split(z,y)"
   ]
  },
  {
   "cell_type": "markdown",
   "id": "4ae25702-6743-4ae8-8154-fcb8c88b1ea2",
   "metadata": {},
   "source": [
    "Train model"
   ]
  },
  {
   "cell_type": "code",
   "execution_count": 56,
   "id": "ee958a3d-0972-4200-89a3-e30d5c7863c6",
   "metadata": {},
   "outputs": [
    {
     "name": "stdout",
     "output_type": "stream",
     "text": [
      "Epoch 1/6\n",
      "737/737 [==============================] - 1334s 2s/step - loss: 0.1153 - acc: 0.9593 - val_loss: 0.0231 - val_acc: 0.9938\n",
      "Epoch 2/6\n",
      "737/737 [==============================] - 1286s 2s/step - loss: 0.0151 - acc: 0.9958 - val_loss: 0.0119 - val_acc: 0.9968\n",
      "Epoch 3/6\n",
      "737/737 [==============================] - 1291s 2s/step - loss: 0.0068 - acc: 0.9980 - val_loss: 0.0108 - val_acc: 0.9968\n",
      "Epoch 4/6\n",
      "737/737 [==============================] - 1289s 2s/step - loss: 0.0159 - acc: 0.9952 - val_loss: 0.0097 - val_acc: 0.9978\n",
      "Epoch 5/6\n",
      "737/737 [==============================] - 1287s 2s/step - loss: 0.0014 - acc: 0.9998 - val_loss: 0.0094 - val_acc: 0.9975\n",
      "Epoch 6/6\n",
      "737/737 [==============================] - 1289s 2s/step - loss: 0.0029 - acc: 0.9992 - val_loss: 0.0080 - val_acc: 0.9978\n"
     ]
    }
   ],
   "source": [
    "system = model.fit(z_train,y_train, validation_split=0.3, epochs=6)"
   ]
  },
  {
   "cell_type": "code",
   "execution_count": 57,
   "id": "fd0c2e6c-2626-4317-bb80-3c3f8aade7b1",
   "metadata": {},
   "outputs": [
    {
     "name": "stdout",
     "output_type": "stream",
     "text": [
      "dict_keys(['loss', 'acc', 'val_loss', 'val_acc'])\n"
     ]
    }
   ],
   "source": [
    "print(system.history.keys())"
   ]
  },
  {
   "cell_type": "markdown",
   "id": "40364d99-b275-4add-a6f5-2c5c62e4ecad",
   "metadata": {},
   "source": [
    "Plot training and validation accuracy and loss"
   ]
  },
  {
   "cell_type": "code",
   "execution_count": 58,
   "id": "f2648209-e8d7-40ae-87d1-3e5eeab75c12",
   "metadata": {
    "tags": []
   },
   "outputs": [
    {
     "data": {
      "image/png": "[encoded data removed]",
      "text/plain": [
       "<Figure size 432x288 with 1 Axes>"
      ]
     },
     "metadata": {
      "needs_background": "light"
     },
     "output_type": "display_data"
    }
   ],
   "source": [
    "plt.plot(system.history['acc'])\n",
    "plt.plot(system.history['val_acc'])\n",
    "plt.title('model accuracy')\n",
    "plt.ylabel('accuracy')\n",
    "plt.xlabel('epoch')\n",
    "plt.legend(['train', 'validation'], loc='lower right')\n",
    "plt.show()"
   ]
  },
  {
   "cell_type": "code",
   "execution_count": 59,
   "id": "88395007-54a1-48b2-b023-a91c79bf1ba5",
   "metadata": {},
   "outputs": [
    {
     "data": {
      "image/png": "[encoded data removed]",
      "text/plain": [
       "<Figure size 432x288 with 1 Axes>"
      ]
     },
     "metadata": {
      "needs_background": "light"
     },
     "output_type": "display_data"
    }
   ],
   "source": [
    "plt.plot(system.history['loss'])\n",
    "plt.plot(system.history['val_loss'])\n",
    "plt.title('model loss')\n",
    "plt.ylabel('loss')\n",
    "plt.xlabel('epoch')\n",
    "plt.legend(['train', 'validation'], loc='upper right')\n",
    "plt.show()"
   ]
  },
  {
   "cell_type": "markdown",
   "id": "cad15d3d-7296-4b30-8947-1e78baf07df2",
   "metadata": {},
   "source": [
    "Test model with test split"
   ]
  },
  {
   "cell_type": "code",
   "execution_count": 60,
   "id": "9c367bea-1353-46fa-acd8-4acd677ccf22",
   "metadata": {},
   "outputs": [],
   "source": [
    "y_pred = (model.predict(z_test) >= 0.5).astype(int)"
   ]
  },
  {
   "cell_type": "code",
   "execution_count": 61,
   "id": "9600b01f-4465-477d-a636-59c995428002",
   "metadata": {},
   "outputs": [
    {
     "data": {
      "text/plain": [
       "0.9975946547884187"
      ]
     },
     "execution_count": 61,
     "metadata": {},
     "output_type": "execute_result"
    }
   ],
   "source": [
    "accuracy_score(y_test, y_pred)"
   ]
  },
  {
   "cell_type": "code",
   "execution_count": 62,
   "id": "d122cbd7-60f4-47cc-af96-a629c44952d0",
   "metadata": {},
   "outputs": [
    {
     "name": "stdout",
     "output_type": "stream",
     "text": [
      "              precision    recall  f1-score   support\n",
      "\n",
      "           0       1.00      1.00      1.00      5276\n",
      "           1       1.00      1.00      1.00      5949\n",
      "\n",
      "    accuracy                           1.00     11225\n",
      "   macro avg       1.00      1.00      1.00     11225\n",
      "weighted avg       1.00      1.00      1.00     11225\n",
      "\n"
     ]
    }
   ],
   "source": [
    "print(classification_report(y_test, y_pred))"
   ]
  },
  {
   "cell_type": "markdown",
   "id": "a00d5b45-6f95-4825-8a7e-0f789bece9a4",
   "metadata": {},
   "source": [
    "Test model with Test Dataset"
   ]
  },
  {
   "cell_type": "code",
   "execution_count": 63,
   "id": "63ce1085-eefd-472d-8ecc-eb7eacd19cf3",
   "metadata": {},
   "outputs": [],
   "source": [
    "test = pd.read_csv('test.csv')"
   ]
  },
  {
   "cell_type": "code",
   "execution_count": 64,
   "id": "0766bcd3-5034-4644-84f5-8ede92d2702a",
   "metadata": {},
   "outputs": [],
   "source": [
    "values = pd.read_csv('Truth Values.csv')"
   ]
  },
  {
   "cell_type": "code",
   "execution_count": 65,
   "id": "fd2d5c75-7626-4f79-8222-20e8ae689375",
   "metadata": {},
   "outputs": [
    {
     "data": {
      "text/html": [
       "<div>\n",
       "<style scoped>\n",
       "    .dataframe tbody tr th:only-of-type {\n",
       "        vertical-align: middle;\n",
       "    }\n",
       "\n",
       "    .dataframe tbody tr th {\n",
       "        vertical-align: top;\n",
       "    }\n",
       "\n",
       "    .dataframe thead th {\n",
       "        text-align: right;\n",
       "    }\n",
       "</style>\n",
       "<table border=\"1\" class=\"dataframe\">\n",
       "  <thead>\n",
       "    <tr style=\"text-align: right;\">\n",
       "      <th></th>\n",
       "      <th>id</th>\n",
       "      <th>title</th>\n",
       "      <th>author</th>\n",
       "      <th>text</th>\n",
       "    </tr>\n",
       "  </thead>\n",
       "  <tbody>\n",
       "    <tr>\n",
       "      <th>0</th>\n",
       "      <td>20800</td>\n",
       "      <td>Specter of Trump Loosens Tongues, if Not Purse...</td>\n",
       "      <td>David Streitfeld</td>\n",
       "      <td>PALO ALTO, Calif.  —   After years of scorning...</td>\n",
       "    </tr>\n",
       "    <tr>\n",
       "      <th>1</th>\n",
       "      <td>20801</td>\n",
       "      <td>Russian warships ready to strike terrorists ne...</td>\n",
       "      <td>NaN</td>\n",
       "      <td>Russian warships ready to strike terrorists ne...</td>\n",
       "    </tr>\n",
       "    <tr>\n",
       "      <th>2</th>\n",
       "      <td>20802</td>\n",
       "      <td>#NoDAPL: Native American Leaders Vow to Stay A...</td>\n",
       "      <td>Common Dreams</td>\n",
       "      <td>Videos #NoDAPL: Native American Leaders Vow to...</td>\n",
       "    </tr>\n",
       "    <tr>\n",
       "      <th>3</th>\n",
       "      <td>20803</td>\n",
       "      <td>Tim Tebow Will Attempt Another Comeback, This ...</td>\n",
       "      <td>Daniel Victor</td>\n",
       "      <td>If at first you don’t succeed, try a different...</td>\n",
       "    </tr>\n",
       "    <tr>\n",
       "      <th>4</th>\n",
       "      <td>20804</td>\n",
       "      <td>Keiser Report: Meme Wars (E995)</td>\n",
       "      <td>Truth Broadcast Network</td>\n",
       "      <td>42 mins ago 1 Views 0 Comments 0 Likes 'For th...</td>\n",
       "    </tr>\n",
       "  </tbody>\n",
       "</table>\n",
       "</div>"
      ],
      "text/plain": [
       "      id                                              title  \\\n",
       "0  20800  Specter of Trump Loosens Tongues, if Not Purse...   \n",
       "1  20801  Russian warships ready to strike terrorists ne...   \n",
       "2  20802  #NoDAPL: Native American Leaders Vow to Stay A...   \n",
       "3  20803  Tim Tebow Will Attempt Another Comeback, This ...   \n",
       "4  20804                    Keiser Report: Meme Wars (E995)   \n",
       "\n",
       "                    author                                               text  \n",
       "0         David Streitfeld  PALO ALTO, Calif.  —   After years of scorning...  \n",
       "1                      NaN  Russian warships ready to strike terrorists ne...  \n",
       "2            Common Dreams  Videos #NoDAPL: Native American Leaders Vow to...  \n",
       "3            Daniel Victor  If at first you don’t succeed, try a different...  \n",
       "4  Truth Broadcast Network  42 mins ago 1 Views 0 Comments 0 Likes 'For th...  "
      ]
     },
     "execution_count": 65,
     "metadata": {},
     "output_type": "execute_result"
    }
   ],
   "source": [
    "test.head()"
   ]
  },
  {
   "cell_type": "code",
   "execution_count": 66,
   "id": "d73d0be3-a17b-4a82-a665-2b50cb6931d7",
   "metadata": {},
   "outputs": [
    {
     "data": {
      "text/html": [
       "<div>\n",
       "<style scoped>\n",
       "    .dataframe tbody tr th:only-of-type {\n",
       "        vertical-align: middle;\n",
       "    }\n",
       "\n",
       "    .dataframe tbody tr th {\n",
       "        vertical-align: top;\n",
       "    }\n",
       "\n",
       "    .dataframe thead th {\n",
       "        text-align: right;\n",
       "    }\n",
       "</style>\n",
       "<table border=\"1\" class=\"dataframe\">\n",
       "  <thead>\n",
       "    <tr style=\"text-align: right;\">\n",
       "      <th></th>\n",
       "      <th>id</th>\n",
       "      <th>label</th>\n",
       "    </tr>\n",
       "  </thead>\n",
       "  <tbody>\n",
       "    <tr>\n",
       "      <th>0</th>\n",
       "      <td>20800</td>\n",
       "      <td>0</td>\n",
       "    </tr>\n",
       "    <tr>\n",
       "      <th>1</th>\n",
       "      <td>20801</td>\n",
       "      <td>1</td>\n",
       "    </tr>\n",
       "    <tr>\n",
       "      <th>2</th>\n",
       "      <td>20802</td>\n",
       "      <td>1</td>\n",
       "    </tr>\n",
       "    <tr>\n",
       "      <th>3</th>\n",
       "      <td>20803</td>\n",
       "      <td>0</td>\n",
       "    </tr>\n",
       "    <tr>\n",
       "      <th>4</th>\n",
       "      <td>20804</td>\n",
       "      <td>1</td>\n",
       "    </tr>\n",
       "  </tbody>\n",
       "</table>\n",
       "</div>"
      ],
      "text/plain": [
       "      id  label\n",
       "0  20800      0\n",
       "1  20801      1\n",
       "2  20802      1\n",
       "3  20803      0\n",
       "4  20804      1"
      ]
     },
     "execution_count": 66,
     "metadata": {},
     "output_type": "execute_result"
    }
   ],
   "source": [
    "values.head()"
   ]
  },
  {
   "cell_type": "code",
   "execution_count": 67,
   "id": "f50e557b-7e91-4145-b88c-ec1a8bf0e224",
   "metadata": {},
   "outputs": [],
   "source": [
    "test['text'] = test['text'].apply(lambda x: str(x).lower())"
   ]
  },
  {
   "cell_type": "code",
   "execution_count": 68,
   "id": "bcb6a8df-96b0-4bdf-a7e4-302b331821d7",
   "metadata": {},
   "outputs": [],
   "source": [
    "test['text'] = test['text'].apply(lambda x: ps.remove_special_chars(x))"
   ]
  },
  {
   "cell_type": "code",
   "execution_count": 69,
   "id": "8812a91e-c05a-46fa-b420-13fe243a2f73",
   "metadata": {},
   "outputs": [
    {
     "data": {
      "text/plain": [
       "0    palo alto calif after years of scorning the po...\n",
       "1    russian warships ready to strike terrorists ne...\n",
       "2    videos nodapl native american leaders vow to s...\n",
       "3    if at first you dont succeed try a different s...\n",
       "4    42 mins ago 1 views 0 comments 0 likes for the...\n",
       "Name: text, dtype: object"
      ]
     },
     "execution_count": 69,
     "metadata": {},
     "output_type": "execute_result"
    }
   ],
   "source": [
    "test['text'].head()"
   ]
  },
  {
   "cell_type": "code",
   "execution_count": 70,
   "id": "f50aece9-e4df-4ae8-af92-f09f5e70b12e",
   "metadata": {},
   "outputs": [],
   "source": [
    "x = test['text']\n",
    "x = tokenizer.texts_to_sequences(x)\n",
    "x = pad_sequences(x, maxlen = maxlen)\n",
    "results = (model.predict(x) >= 0.5).astype(int)"
   ]
  },
  {
   "cell_type": "code",
   "execution_count": 71,
   "id": "b63227f8-d191-40d0-8467-fab8a4aacc98",
   "metadata": {},
   "outputs": [],
   "source": [
    "test_values = values['label'].values"
   ]
  },
  {
   "cell_type": "code",
   "execution_count": 72,
   "id": "e44d5952-31ab-4522-b7b8-9658f0201d18",
   "metadata": {},
   "outputs": [
    {
     "data": {
      "text/plain": [
       "0.6326923076923077"
      ]
     },
     "execution_count": 72,
     "metadata": {},
     "output_type": "execute_result"
    }
   ],
   "source": [
    "accuracy_score(test_values, results)"
   ]
  },
  {
   "cell_type": "code",
   "execution_count": 73,
   "id": "bb45e201-ed34-4f72-bf5b-af43843f9634",
   "metadata": {},
   "outputs": [
    {
     "name": "stdout",
     "output_type": "stream",
     "text": [
      "              precision    recall  f1-score   support\n",
      "\n",
      "           0       0.73      0.44      0.55      2656\n",
      "           1       0.59      0.83      0.69      2544\n",
      "\n",
      "    accuracy                           0.63      5200\n",
      "   macro avg       0.66      0.64      0.62      5200\n",
      "weighted avg       0.66      0.63      0.62      5200\n",
      "\n"
     ]
    }
   ],
   "source": [
    "print(classification_report(test_values, results))"
   ]
  },
  {
   "cell_type": "code",
   "execution_count": 74,
   "id": "024fa04a-0d0f-4b2e-a9f4-9761f0f2c9ae",
   "metadata": {},
   "outputs": [],
   "source": [
    "final_results = pd.DataFrame()\n",
    "final_results['id'] = test['id']\n",
    "final_results['label'] = results\n",
    "final_results.to_csv('Results (Dataset Collection 1).csv', index = False)"
   ]
  }
 ],
 "metadata": {
  "kernelspec": {
   "display_name": "Python 3 (ipykernel)",
   "language": "python",
   "name": "python3"
  },
  "language_info": {
   "codemirror_mode": {
    "name": "ipython",
    "version": 3
   },
   "file_extension": ".py",
   "mimetype": "text/x-python",
   "name": "python",
   "nbconvert_exporter": "python",
   "pygments_lexer": "ipython3",
   "version": "3.9.7"
  }
 },
 "nbformat": 4,
 "nbformat_minor": 5
}
